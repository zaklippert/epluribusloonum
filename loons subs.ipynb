{
 "cells": [
  {
   "cell_type": "markdown",
   "metadata": {},
   "source": [
    "# Imports and loads"
   ]
  },
  {
   "cell_type": "code",
   "execution_count": 1,
   "metadata": {},
   "outputs": [],
   "source": [
    "import pandas as pd\n",
    "import numpy as np"
   ]
  },
  {
   "cell_type": "code",
   "execution_count": 2,
   "metadata": {},
   "outputs": [],
   "source": [
    "data = pd.read_excel('Documents\\loons sub tracking.xlsx')"
   ]
  },
  {
   "cell_type": "markdown",
   "metadata": {},
   "source": [
    "# Cleaning"
   ]
  },
  {
   "cell_type": "code",
   "execution_count": 3,
   "metadata": {},
   "outputs": [],
   "source": [
    "data.columns = map(str.lower, data.columns)"
   ]
  },
  {
   "cell_type": "code",
   "execution_count": 4,
   "metadata": {},
   "outputs": [],
   "source": [
    "data.columns = data.columns.str.replace(' ','_')"
   ]
  },
  {
   "cell_type": "code",
   "execution_count": 5,
   "metadata": {},
   "outputs": [],
   "source": [
    "data = data.drop('unnamed:_15', axis=1)"
   ]
  },
  {
   "cell_type": "code",
   "execution_count": 6,
   "metadata": {},
   "outputs": [],
   "source": [
    "data['sub_gamestate']='draw'"
   ]
  },
  {
   "cell_type": "code",
   "execution_count": 7,
   "metadata": {},
   "outputs": [],
   "source": [
    "data['loon_score'] = data['score_at_sub'].str[0]\n",
    "data['opp_score'] = data['score_at_sub'].str[2]"
   ]
  },
  {
   "cell_type": "code",
   "execution_count": 8,
   "metadata": {},
   "outputs": [],
   "source": [
    "data[['loon_score','opp_score']] = data[['loon_score','opp_score']].apply(pd.to_numeric)"
   ]
  },
  {
   "cell_type": "code",
   "execution_count": 9,
   "metadata": {},
   "outputs": [],
   "source": [
    "data['sub_gamestate'] = np.where(data['loon_score']>data['opp_score'],'Win',\n",
    "                                 np.where(data['loon_score']<data['opp_score'],'Loss','Draw'))"
   ]
  },
  {
   "cell_type": "markdown",
   "metadata": {},
   "source": [
    "# split dataset"
   ]
  },
  {
   "cell_type": "code",
   "execution_count": 10,
   "metadata": {},
   "outputs": [],
   "source": [
    "    # break out player types, substitutions, and results"
   ]
  },
  {
   "cell_type": "code",
   "execution_count": 11,
   "metadata": {},
   "outputs": [],
   "source": [
    "defenders = data.defenders\n",
    "mid = data.midfieldsers\n",
    "attack = data.forwards"
   ]
  },
  {
   "cell_type": "code",
   "execution_count": 12,
   "metadata": {},
   "outputs": [],
   "source": [
    "subs = data.drop(['forwards','midfieldsers','defenders'], axis=1)"
   ]
  },
  {
   "cell_type": "code",
   "execution_count": 13,
   "metadata": {},
   "outputs": [],
   "source": [
    "results = data[['date','opponent','final','result','sub_#']]"
   ]
  },
  {
   "cell_type": "markdown",
   "metadata": {},
   "source": [
    "# Clean results dataframeto remove duplicates and count subs"
   ]
  },
  {
   "cell_type": "code",
   "execution_count": 14,
   "metadata": {},
   "outputs": [
    {
     "name": "stderr",
     "output_type": "stream",
     "text": [
      "c:\\users\\zak_laptop\\appdata\\local\\programs\\python\\python37\\lib\\site-packages\\ipykernel_launcher.py:1: SettingWithCopyWarning: \n",
      "A value is trying to be set on a copy of a slice from a DataFrame.\n",
      "Try using .loc[row_indexer,col_indexer] = value instead\n",
      "\n",
      "See the caveats in the documentation: http://pandas.pydata.org/pandas-docs/stable/indexing.html#indexing-view-versus-copy\n",
      "  \"\"\"Entry point for launching an IPython kernel.\n"
     ]
    }
   ],
   "source": [
    "results['max_sub'] = results.groupby(['date','opponent','final','result'])['sub_#'].transform(max)"
   ]
  },
  {
   "cell_type": "code",
   "execution_count": 15,
   "metadata": {},
   "outputs": [],
   "source": [
    "results = results.drop('sub_#', axis=1)"
   ]
  },
  {
   "cell_type": "code",
   "execution_count": 16,
   "metadata": {},
   "outputs": [],
   "source": [
    "results = results.drop_duplicates()"
   ]
  },
  {
   "cell_type": "code",
   "execution_count": 17,
   "metadata": {},
   "outputs": [],
   "source": [
    "results['date'] = pd.to_datetime(results['date'])"
   ]
  },
  {
   "cell_type": "code",
   "execution_count": 67,
   "metadata": {},
   "outputs": [],
   "source": [
    "subs['date']= pd.to_datetime(subs['date'])"
   ]
  },
  {
   "cell_type": "code",
   "execution_count": 68,
   "metadata": {},
   "outputs": [],
   "source": [
    "subs['year'] = subs['date'].dt.year"
   ]
  },
  {
   "cell_type": "markdown",
   "metadata": {},
   "source": [
    "# EDA"
   ]
  },
  {
   "cell_type": "code",
   "execution_count": 18,
   "metadata": {},
   "outputs": [],
   "source": [
    "results['year'] = results['date'].dt.year"
   ]
  },
  {
   "cell_type": "code",
   "execution_count": 19,
   "metadata": {},
   "outputs": [
    {
     "data": {
      "text/html": [
       "<div>\n",
       "<style scoped>\n",
       "    .dataframe tbody tr th:only-of-type {\n",
       "        vertical-align: middle;\n",
       "    }\n",
       "\n",
       "    .dataframe tbody tr th {\n",
       "        vertical-align: top;\n",
       "    }\n",
       "\n",
       "    .dataframe thead th {\n",
       "        text-align: right;\n",
       "    }\n",
       "</style>\n",
       "<table border=\"1\" class=\"dataframe\">\n",
       "  <thead>\n",
       "    <tr style=\"text-align: right;\">\n",
       "      <th></th>\n",
       "      <th>max_sub</th>\n",
       "    </tr>\n",
       "    <tr>\n",
       "      <th>year</th>\n",
       "      <th></th>\n",
       "    </tr>\n",
       "  </thead>\n",
       "  <tbody>\n",
       "    <tr>\n",
       "      <th>2017</th>\n",
       "      <td>2.588235</td>\n",
       "    </tr>\n",
       "    <tr>\n",
       "      <th>2018</th>\n",
       "      <td>2.705882</td>\n",
       "    </tr>\n",
       "    <tr>\n",
       "      <th>2019</th>\n",
       "      <td>2.785714</td>\n",
       "    </tr>\n",
       "  </tbody>\n",
       "</table>\n",
       "</div>"
      ],
      "text/plain": [
       "       max_sub\n",
       "year          \n",
       "2017  2.588235\n",
       "2018  2.705882\n",
       "2019  2.785714"
      ]
     },
     "execution_count": 19,
     "metadata": {},
     "output_type": "execute_result"
    }
   ],
   "source": [
    "#Average # subs used per game\n",
    "results.groupby(['year']).mean()"
   ]
  },
  {
   "cell_type": "code",
   "execution_count": 20,
   "metadata": {},
   "outputs": [
    {
     "data": {
      "text/html": [
       "<div>\n",
       "<style scoped>\n",
       "    .dataframe tbody tr th:only-of-type {\n",
       "        vertical-align: middle;\n",
       "    }\n",
       "\n",
       "    .dataframe tbody tr th {\n",
       "        vertical-align: top;\n",
       "    }\n",
       "\n",
       "    .dataframe thead th {\n",
       "        text-align: right;\n",
       "    }\n",
       "</style>\n",
       "<table border=\"1\" class=\"dataframe\">\n",
       "  <thead>\n",
       "    <tr style=\"text-align: right;\">\n",
       "      <th></th>\n",
       "      <th>max_sub</th>\n",
       "      <th>year</th>\n",
       "    </tr>\n",
       "    <tr>\n",
       "      <th>result</th>\n",
       "      <th></th>\n",
       "      <th></th>\n",
       "    </tr>\n",
       "  </thead>\n",
       "  <tbody>\n",
       "    <tr>\n",
       "      <th>Draw</th>\n",
       "      <td>2.500000</td>\n",
       "      <td>2017.750000</td>\n",
       "    </tr>\n",
       "    <tr>\n",
       "      <th>Loss</th>\n",
       "      <td>2.581395</td>\n",
       "      <td>2017.697674</td>\n",
       "    </tr>\n",
       "    <tr>\n",
       "      <th>Win</th>\n",
       "      <td>2.888889</td>\n",
       "      <td>2017.851852</td>\n",
       "    </tr>\n",
       "  </tbody>\n",
       "</table>\n",
       "</div>"
      ],
      "text/plain": [
       "         max_sub         year\n",
       "result                       \n",
       "Draw    2.500000  2017.750000\n",
       "Loss    2.581395  2017.697674\n",
       "Win     2.888889  2017.851852"
      ]
     },
     "execution_count": 20,
     "metadata": {},
     "output_type": "execute_result"
    }
   ],
   "source": [
    "#average # subs by result\n",
    "results.groupby(['result']).mean()"
   ]
  },
  {
   "cell_type": "code",
   "execution_count": 21,
   "metadata": {},
   "outputs": [
    {
     "data": {
      "text/html": [
       "<div>\n",
       "<style scoped>\n",
       "    .dataframe tbody tr th:only-of-type {\n",
       "        vertical-align: middle;\n",
       "    }\n",
       "\n",
       "    .dataframe tbody tr th {\n",
       "        vertical-align: top;\n",
       "    }\n",
       "\n",
       "    .dataframe thead th {\n",
       "        text-align: right;\n",
       "    }\n",
       "</style>\n",
       "<table border=\"1\" class=\"dataframe\">\n",
       "  <thead>\n",
       "    <tr style=\"text-align: right;\">\n",
       "      <th></th>\n",
       "      <th></th>\n",
       "      <th>max_sub</th>\n",
       "    </tr>\n",
       "    <tr>\n",
       "      <th>year</th>\n",
       "      <th>result</th>\n",
       "      <th></th>\n",
       "    </tr>\n",
       "  </thead>\n",
       "  <tbody>\n",
       "    <tr>\n",
       "      <th rowspan=\"3\" valign=\"top\">2017</th>\n",
       "      <th>Draw</th>\n",
       "      <td>2.500000</td>\n",
       "    </tr>\n",
       "    <tr>\n",
       "      <th>Loss</th>\n",
       "      <td>2.444444</td>\n",
       "    </tr>\n",
       "    <tr>\n",
       "      <th>Win</th>\n",
       "      <td>2.900000</td>\n",
       "    </tr>\n",
       "    <tr>\n",
       "      <th rowspan=\"3\" valign=\"top\">2018</th>\n",
       "      <th>Draw</th>\n",
       "      <td>2.333333</td>\n",
       "    </tr>\n",
       "    <tr>\n",
       "      <th>Loss</th>\n",
       "      <td>2.700000</td>\n",
       "    </tr>\n",
       "    <tr>\n",
       "      <th>Win</th>\n",
       "      <td>2.818182</td>\n",
       "    </tr>\n",
       "    <tr>\n",
       "      <th rowspan=\"3\" valign=\"top\">2019</th>\n",
       "      <th>Draw</th>\n",
       "      <td>2.666667</td>\n",
       "    </tr>\n",
       "    <tr>\n",
       "      <th>Loss</th>\n",
       "      <td>2.600000</td>\n",
       "    </tr>\n",
       "    <tr>\n",
       "      <th>Win</th>\n",
       "      <td>3.000000</td>\n",
       "    </tr>\n",
       "  </tbody>\n",
       "</table>\n",
       "</div>"
      ],
      "text/plain": [
       "              max_sub\n",
       "year result          \n",
       "2017 Draw    2.500000\n",
       "     Loss    2.444444\n",
       "     Win     2.900000\n",
       "2018 Draw    2.333333\n",
       "     Loss    2.700000\n",
       "     Win     2.818182\n",
       "2019 Draw    2.666667\n",
       "     Loss    2.600000\n",
       "     Win     3.000000"
      ]
     },
     "execution_count": 21,
     "metadata": {},
     "output_type": "execute_result"
    }
   ],
   "source": [
    "#average # subs by year and result\n",
    "results.groupby(['year','result']).mean()"
   ]
  },
  {
   "cell_type": "code",
   "execution_count": 22,
   "metadata": {},
   "outputs": [
    {
     "data": {
      "text/html": [
       "<div>\n",
       "<style scoped>\n",
       "    .dataframe tbody tr th:only-of-type {\n",
       "        vertical-align: middle;\n",
       "    }\n",
       "\n",
       "    .dataframe tbody tr th {\n",
       "        vertical-align: top;\n",
       "    }\n",
       "\n",
       "    .dataframe thead th {\n",
       "        text-align: right;\n",
       "    }\n",
       "</style>\n",
       "<table border=\"1\" class=\"dataframe\">\n",
       "  <thead>\n",
       "    <tr style=\"text-align: right;\">\n",
       "      <th></th>\n",
       "      <th>date</th>\n",
       "      <th>opponent</th>\n",
       "      <th>final</th>\n",
       "      <th>result</th>\n",
       "      <th>time</th>\n",
       "      <th>sub_#</th>\n",
       "      <th>sub_on</th>\n",
       "      <th>sub_off</th>\n",
       "      <th>movement</th>\n",
       "      <th>score_at_sub</th>\n",
       "      <th>score_change</th>\n",
       "      <th>on_index</th>\n",
       "      <th>off_index</th>\n",
       "      <th>end_diff</th>\n",
       "      <th>sub_diff</th>\n",
       "      <th>sub_gamestate</th>\n",
       "      <th>loon_score</th>\n",
       "      <th>opp_score</th>\n",
       "    </tr>\n",
       "  </thead>\n",
       "  <tbody>\n",
       "    <tr>\n",
       "      <th>0</th>\n",
       "      <td>2019-05-29</td>\n",
       "      <td>Atlanta</td>\n",
       "      <td>0-3</td>\n",
       "      <td>Loss</td>\n",
       "      <td>64</td>\n",
       "      <td>1</td>\n",
       "      <td>Toye</td>\n",
       "      <td>Danladi</td>\n",
       "      <td>0</td>\n",
       "      <td>0-1</td>\n",
       "      <td>-2</td>\n",
       "      <td>2</td>\n",
       "      <td>2</td>\n",
       "      <td>-3</td>\n",
       "      <td>-1</td>\n",
       "      <td>Loss</td>\n",
       "      <td>0</td>\n",
       "      <td>1</td>\n",
       "    </tr>\n",
       "    <tr>\n",
       "      <th>1</th>\n",
       "      <td>2019-05-29</td>\n",
       "      <td>Atlanta</td>\n",
       "      <td>0-3</td>\n",
       "      <td>Loss</td>\n",
       "      <td>70</td>\n",
       "      <td>2</td>\n",
       "      <td>Rodriguez</td>\n",
       "      <td>Quintero</td>\n",
       "      <td>0</td>\n",
       "      <td>0-1</td>\n",
       "      <td>-2</td>\n",
       "      <td>2</td>\n",
       "      <td>2</td>\n",
       "      <td>-3</td>\n",
       "      <td>-1</td>\n",
       "      <td>Loss</td>\n",
       "      <td>0</td>\n",
       "      <td>1</td>\n",
       "    </tr>\n",
       "    <tr>\n",
       "      <th>2</th>\n",
       "      <td>2019-05-29</td>\n",
       "      <td>Atlanta</td>\n",
       "      <td>0-3</td>\n",
       "      <td>Loss</td>\n",
       "      <td>82</td>\n",
       "      <td>3</td>\n",
       "      <td>Finlay</td>\n",
       "      <td>Schuller</td>\n",
       "      <td>1</td>\n",
       "      <td>0-1</td>\n",
       "      <td>-2</td>\n",
       "      <td>2</td>\n",
       "      <td>1</td>\n",
       "      <td>-3</td>\n",
       "      <td>-1</td>\n",
       "      <td>Loss</td>\n",
       "      <td>0</td>\n",
       "      <td>1</td>\n",
       "    </tr>\n",
       "    <tr>\n",
       "      <th>3</th>\n",
       "      <td>2018-07-15</td>\n",
       "      <td>RSL</td>\n",
       "      <td>3-2</td>\n",
       "      <td>Win</td>\n",
       "      <td>72</td>\n",
       "      <td>1</td>\n",
       "      <td>Martin</td>\n",
       "      <td>Ibson</td>\n",
       "      <td>0</td>\n",
       "      <td>3-0</td>\n",
       "      <td>-2</td>\n",
       "      <td>1</td>\n",
       "      <td>1</td>\n",
       "      <td>1</td>\n",
       "      <td>3</td>\n",
       "      <td>Win</td>\n",
       "      <td>3</td>\n",
       "      <td>0</td>\n",
       "    </tr>\n",
       "    <tr>\n",
       "      <th>4</th>\n",
       "      <td>2018-07-15</td>\n",
       "      <td>RSL</td>\n",
       "      <td>3-2</td>\n",
       "      <td>Win</td>\n",
       "      <td>78</td>\n",
       "      <td>2</td>\n",
       "      <td>Fernando</td>\n",
       "      <td>Schuller</td>\n",
       "      <td>0</td>\n",
       "      <td>3-1</td>\n",
       "      <td>-1</td>\n",
       "      <td>1</td>\n",
       "      <td>1</td>\n",
       "      <td>1</td>\n",
       "      <td>2</td>\n",
       "      <td>Win</td>\n",
       "      <td>3</td>\n",
       "      <td>1</td>\n",
       "    </tr>\n",
       "  </tbody>\n",
       "</table>\n",
       "</div>"
      ],
      "text/plain": [
       "        date opponent final result  time  sub_#     sub_on   sub_off  \\\n",
       "0 2019-05-29  Atlanta   0-3   Loss    64      1       Toye   Danladi   \n",
       "1 2019-05-29  Atlanta   0-3   Loss    70      2  Rodriguez  Quintero   \n",
       "2 2019-05-29  Atlanta   0-3   Loss    82      3     Finlay  Schuller   \n",
       "3 2018-07-15      RSL   3-2    Win    72      1     Martin     Ibson   \n",
       "4 2018-07-15      RSL   3-2    Win    78      2   Fernando  Schuller   \n",
       "\n",
       "   movement score_at_sub  score_change  on_index  off_index  end_diff  \\\n",
       "0         0          0-1            -2         2          2        -3   \n",
       "1         0          0-1            -2         2          2        -3   \n",
       "2         1          0-1            -2         2          1        -3   \n",
       "3         0          3-0            -2         1          1         1   \n",
       "4         0          3-1            -1         1          1         1   \n",
       "\n",
       "   sub_diff sub_gamestate  loon_score  opp_score  \n",
       "0        -1          Loss           0          1  \n",
       "1        -1          Loss           0          1  \n",
       "2        -1          Loss           0          1  \n",
       "3         3           Win           3          0  \n",
       "4         2           Win           3          1  "
      ]
     },
     "execution_count": 22,
     "metadata": {},
     "output_type": "execute_result"
    }
   ],
   "source": [
    "subs.head()"
   ]
  },
  {
   "cell_type": "code",
   "execution_count": 79,
   "metadata": {},
   "outputs": [],
   "source": [
    "#subs made before halftime are removed as they are not necessarily made tactically, but still count agaisnt the 3 allowed\n",
    "subs_no_injury = subs.drop(subs[(subs.time < 45)].index)"
   ]
  },
  {
   "cell_type": "code",
   "execution_count": 24,
   "metadata": {
    "scrolled": true
   },
   "outputs": [
    {
     "data": {
      "text/plain": [
       "sub_#\n",
       "1    59.207317\n",
       "2    73.227848\n",
       "3    82.017241\n",
       "Name: time, dtype: float64"
      ]
     },
     "execution_count": 24,
     "metadata": {},
     "output_type": "execute_result"
    }
   ],
   "source": [
    "#average time of subs\n",
    "subs.groupby(['sub_#'])['time'].mean()"
   ]
  },
  {
   "cell_type": "code",
   "execution_count": 25,
   "metadata": {},
   "outputs": [
    {
     "data": {
      "text/plain": [
       "sub_#\n",
       "1    64.911765\n",
       "2    73.602564\n",
       "3    82.017241\n",
       "Name: time, dtype: float64"
      ]
     },
     "execution_count": 25,
     "metadata": {},
     "output_type": "execute_result"
    }
   ],
   "source": [
    "#average time of subs excluding first half injuries\n",
    "subs_no_injury.groupby(['sub_#'])['time'].mean()"
   ]
  },
  {
   "cell_type": "code",
   "execution_count": 83,
   "metadata": {},
   "outputs": [
    {
     "data": {
      "text/html": [
       "<div>\n",
       "<style scoped>\n",
       "    .dataframe tbody tr th:only-of-type {\n",
       "        vertical-align: middle;\n",
       "    }\n",
       "\n",
       "    .dataframe tbody tr th {\n",
       "        vertical-align: top;\n",
       "    }\n",
       "\n",
       "    .dataframe thead th {\n",
       "        text-align: right;\n",
       "    }\n",
       "</style>\n",
       "<table border=\"1\" class=\"dataframe\">\n",
       "  <thead>\n",
       "    <tr style=\"text-align: right;\">\n",
       "      <th></th>\n",
       "      <th></th>\n",
       "      <th>time</th>\n",
       "      <th>movement</th>\n",
       "    </tr>\n",
       "    <tr>\n",
       "      <th>sub_gamestate</th>\n",
       "      <th>sub_#</th>\n",
       "      <th></th>\n",
       "      <th></th>\n",
       "    </tr>\n",
       "  </thead>\n",
       "  <tbody>\n",
       "    <tr>\n",
       "      <th rowspan=\"3\" valign=\"top\">Draw</th>\n",
       "      <th>1</th>\n",
       "      <td>50.000000</td>\n",
       "      <td>-0.411765</td>\n",
       "    </tr>\n",
       "    <tr>\n",
       "      <th>2</th>\n",
       "      <td>73.785714</td>\n",
       "      <td>-0.214286</td>\n",
       "    </tr>\n",
       "    <tr>\n",
       "      <th>3</th>\n",
       "      <td>83.300000</td>\n",
       "      <td>-0.400000</td>\n",
       "    </tr>\n",
       "    <tr>\n",
       "      <th rowspan=\"3\" valign=\"top\">Loss</th>\n",
       "      <th>1</th>\n",
       "      <td>58.023810</td>\n",
       "      <td>0.309524</td>\n",
       "    </tr>\n",
       "    <tr>\n",
       "      <th>2</th>\n",
       "      <td>69.780488</td>\n",
       "      <td>0.195122</td>\n",
       "    </tr>\n",
       "    <tr>\n",
       "      <th>3</th>\n",
       "      <td>78.740741</td>\n",
       "      <td>0.481481</td>\n",
       "    </tr>\n",
       "    <tr>\n",
       "      <th rowspan=\"3\" valign=\"top\">Win</th>\n",
       "      <th>1</th>\n",
       "      <td>68.173913</td>\n",
       "      <td>-0.434783</td>\n",
       "    </tr>\n",
       "    <tr>\n",
       "      <th>2</th>\n",
       "      <td>78.791667</td>\n",
       "      <td>-0.166667</td>\n",
       "    </tr>\n",
       "    <tr>\n",
       "      <th>3</th>\n",
       "      <td>85.619048</td>\n",
       "      <td>-0.619048</td>\n",
       "    </tr>\n",
       "  </tbody>\n",
       "</table>\n",
       "</div>"
      ],
      "text/plain": [
       "                          time  movement\n",
       "sub_gamestate sub_#                     \n",
       "Draw          1      50.000000 -0.411765\n",
       "              2      73.785714 -0.214286\n",
       "              3      83.300000 -0.400000\n",
       "Loss          1      58.023810  0.309524\n",
       "              2      69.780488  0.195122\n",
       "              3      78.740741  0.481481\n",
       "Win           1      68.173913 -0.434783\n",
       "              2      78.791667 -0.166667\n",
       "              3      85.619048 -0.619048"
      ]
     },
     "execution_count": 83,
     "metadata": {},
     "output_type": "execute_result"
    }
   ],
   "source": [
    "#Average time of sub by result\n",
    "subs.groupby(['sub_gamestate','sub_#'])['time','movement'].mean()"
   ]
  },
  {
   "cell_type": "code",
   "execution_count": 84,
   "metadata": {
    "scrolled": false
   },
   "outputs": [
    {
     "data": {
      "text/html": [
       "<div>\n",
       "<style scoped>\n",
       "    .dataframe tbody tr th:only-of-type {\n",
       "        vertical-align: middle;\n",
       "    }\n",
       "\n",
       "    .dataframe tbody tr th {\n",
       "        vertical-align: top;\n",
       "    }\n",
       "\n",
       "    .dataframe thead th {\n",
       "        text-align: right;\n",
       "    }\n",
       "</style>\n",
       "<table border=\"1\" class=\"dataframe\">\n",
       "  <thead>\n",
       "    <tr style=\"text-align: right;\">\n",
       "      <th></th>\n",
       "      <th></th>\n",
       "      <th>time</th>\n",
       "      <th>movement</th>\n",
       "    </tr>\n",
       "    <tr>\n",
       "      <th>sub_gamestate</th>\n",
       "      <th>sub_#</th>\n",
       "      <th></th>\n",
       "      <th></th>\n",
       "    </tr>\n",
       "  </thead>\n",
       "  <tbody>\n",
       "    <tr>\n",
       "      <th rowspan=\"3\" valign=\"top\">Draw</th>\n",
       "      <th>1</th>\n",
       "      <td>65.800000</td>\n",
       "      <td>-0.600000</td>\n",
       "    </tr>\n",
       "    <tr>\n",
       "      <th>2</th>\n",
       "      <td>73.785714</td>\n",
       "      <td>-0.214286</td>\n",
       "    </tr>\n",
       "    <tr>\n",
       "      <th>3</th>\n",
       "      <td>83.300000</td>\n",
       "      <td>-0.400000</td>\n",
       "    </tr>\n",
       "    <tr>\n",
       "      <th rowspan=\"3\" valign=\"top\">Loss</th>\n",
       "      <th>1</th>\n",
       "      <td>61.351351</td>\n",
       "      <td>0.378378</td>\n",
       "    </tr>\n",
       "    <tr>\n",
       "      <th>2</th>\n",
       "      <td>70.425000</td>\n",
       "      <td>0.200000</td>\n",
       "    </tr>\n",
       "    <tr>\n",
       "      <th>3</th>\n",
       "      <td>78.740741</td>\n",
       "      <td>0.481481</td>\n",
       "    </tr>\n",
       "    <tr>\n",
       "      <th rowspan=\"3\" valign=\"top\">Win</th>\n",
       "      <th>1</th>\n",
       "      <td>70.761905</td>\n",
       "      <td>-0.428571</td>\n",
       "    </tr>\n",
       "    <tr>\n",
       "      <th>2</th>\n",
       "      <td>78.791667</td>\n",
       "      <td>-0.166667</td>\n",
       "    </tr>\n",
       "    <tr>\n",
       "      <th>3</th>\n",
       "      <td>85.619048</td>\n",
       "      <td>-0.619048</td>\n",
       "    </tr>\n",
       "  </tbody>\n",
       "</table>\n",
       "</div>"
      ],
      "text/plain": [
       "                          time  movement\n",
       "sub_gamestate sub_#                     \n",
       "Draw          1      65.800000 -0.600000\n",
       "              2      73.785714 -0.214286\n",
       "              3      83.300000 -0.400000\n",
       "Loss          1      61.351351  0.378378\n",
       "              2      70.425000  0.200000\n",
       "              3      78.740741  0.481481\n",
       "Win           1      70.761905 -0.428571\n",
       "              2      78.791667 -0.166667\n",
       "              3      85.619048 -0.619048"
      ]
     },
     "execution_count": 84,
     "metadata": {},
     "output_type": "execute_result"
    }
   ],
   "source": [
    "#Average time of sub by result excluding first half injuries\n",
    "subs_no_injury.groupby(['sub_gamestate','sub_#'])['time','movement'].mean()"
   ]
  },
  {
   "cell_type": "markdown",
   "metadata": {},
   "source": [
    "# changes in games due to subs"
   ]
  },
  {
   "cell_type": "code",
   "execution_count": 28,
   "metadata": {},
   "outputs": [],
   "source": [
    "#end state and sub state must be different\n",
    "gamechanges= subs.drop(subs[(subs.result==subs.sub_gamestate)].index)"
   ]
  },
  {
   "cell_type": "code",
   "execution_count": 29,
   "metadata": {},
   "outputs": [],
   "source": [
    "#positive subs don't end in a loss\n",
    "possubs = gamechanges.drop(gamechanges[(gamechanges.result == 'Loss')].index)"
   ]
  },
  {
   "cell_type": "code",
   "execution_count": 30,
   "metadata": {},
   "outputs": [],
   "source": [
    "#positive can't have come on when we're winning\n",
    "possubs = possubs.drop(possubs[(possubs.sub_gamestate == 'Win')].index)"
   ]
  },
  {
   "cell_type": "code",
   "execution_count": 31,
   "metadata": {},
   "outputs": [
    {
     "data": {
      "text/plain": [
       "24"
      ]
     },
     "execution_count": 31,
     "metadata": {},
     "output_type": "execute_result"
    }
   ],
   "source": [
    "#number of total subs leading to gained points\n",
    "len(possubs.index)"
   ]
  },
  {
   "cell_type": "code",
   "execution_count": 32,
   "metadata": {},
   "outputs": [],
   "source": [
    "#inverse process for negative changes"
   ]
  },
  {
   "cell_type": "code",
   "execution_count": 33,
   "metadata": {},
   "outputs": [],
   "source": [
    "negsubs = gamechanges.drop(gamechanges[(gamechanges.result == 'Win')].index)"
   ]
  },
  {
   "cell_type": "code",
   "execution_count": 34,
   "metadata": {},
   "outputs": [],
   "source": [
    "negsubs = negsubs.drop(negsubs[(negsubs.sub_gamestate =='Loss')].index)"
   ]
  },
  {
   "cell_type": "code",
   "execution_count": 35,
   "metadata": {},
   "outputs": [
    {
     "data": {
      "text/plain": [
       "15"
      ]
     },
     "execution_count": 35,
     "metadata": {},
     "output_type": "execute_result"
    }
   ],
   "source": [
    "#total number of subs leading to lost points\n",
    "len(negsubs.index)"
   ]
  },
  {
   "cell_type": "code",
   "execution_count": 36,
   "metadata": {},
   "outputs": [],
   "source": [
    "#find points earned from subs made, max points taken per game"
   ]
  },
  {
   "cell_type": "code",
   "execution_count": 37,
   "metadata": {},
   "outputs": [],
   "source": [
    "possubs['end_points'] = np.where(possubs['result'] == 'Win',3,1)\n",
    "possubs['sub_points'] = np.where(possubs['sub_gamestate'] == 'Draw',1,0)"
   ]
  },
  {
   "cell_type": "code",
   "execution_count": 38,
   "metadata": {},
   "outputs": [],
   "source": [
    "possubs['points_gained'] = possubs['end_points'] - possubs['sub_points']"
   ]
  },
  {
   "cell_type": "code",
   "execution_count": 39,
   "metadata": {},
   "outputs": [],
   "source": [
    "points_from_subs = possubs[['date','points_gained']]"
   ]
  },
  {
   "cell_type": "code",
   "execution_count": 87,
   "metadata": {},
   "outputs": [
    {
     "data": {
      "text/plain": [
       "24"
      ]
     },
     "execution_count": 87,
     "metadata": {},
     "output_type": "execute_result"
    }
   ],
   "source": [
    "len(points_from_subs.index)"
   ]
  },
  {
   "cell_type": "code",
   "execution_count": 40,
   "metadata": {},
   "outputs": [
    {
     "data": {
      "text/html": [
       "<div>\n",
       "<style scoped>\n",
       "    .dataframe tbody tr th:only-of-type {\n",
       "        vertical-align: middle;\n",
       "    }\n",
       "\n",
       "    .dataframe tbody tr th {\n",
       "        vertical-align: top;\n",
       "    }\n",
       "\n",
       "    .dataframe thead th {\n",
       "        text-align: right;\n",
       "    }\n",
       "</style>\n",
       "<table border=\"1\" class=\"dataframe\">\n",
       "  <thead>\n",
       "    <tr style=\"text-align: right;\">\n",
       "      <th></th>\n",
       "      <th>date</th>\n",
       "      <th>points_gained</th>\n",
       "    </tr>\n",
       "  </thead>\n",
       "  <tbody>\n",
       "    <tr>\n",
       "      <th>17</th>\n",
       "      <td>2019-04-28</td>\n",
       "      <td>2</td>\n",
       "    </tr>\n",
       "    <tr>\n",
       "      <th>57</th>\n",
       "      <td>2018-09-16</td>\n",
       "      <td>1</td>\n",
       "    </tr>\n",
       "    <tr>\n",
       "      <th>67</th>\n",
       "      <td>2018-08-12</td>\n",
       "      <td>1</td>\n",
       "    </tr>\n",
       "    <tr>\n",
       "      <th>74</th>\n",
       "      <td>2018-07-23</td>\n",
       "      <td>2</td>\n",
       "    </tr>\n",
       "    <tr>\n",
       "      <th>108</th>\n",
       "      <td>2018-04-29</td>\n",
       "      <td>3</td>\n",
       "    </tr>\n",
       "    <tr>\n",
       "      <th>127</th>\n",
       "      <td>2018-03-11</td>\n",
       "      <td>2</td>\n",
       "    </tr>\n",
       "    <tr>\n",
       "      <th>141</th>\n",
       "      <td>2017-10-08</td>\n",
       "      <td>1</td>\n",
       "    </tr>\n",
       "    <tr>\n",
       "      <th>144</th>\n",
       "      <td>2017-10-04</td>\n",
       "      <td>3</td>\n",
       "    </tr>\n",
       "    <tr>\n",
       "      <th>151</th>\n",
       "      <td>2017-09-17</td>\n",
       "      <td>2</td>\n",
       "    </tr>\n",
       "    <tr>\n",
       "      <th>156</th>\n",
       "      <td>2017-08-27</td>\n",
       "      <td>2</td>\n",
       "    </tr>\n",
       "    <tr>\n",
       "      <th>176</th>\n",
       "      <td>2017-06-25</td>\n",
       "      <td>1</td>\n",
       "    </tr>\n",
       "    <tr>\n",
       "      <th>198</th>\n",
       "      <td>2017-04-23</td>\n",
       "      <td>2</td>\n",
       "    </tr>\n",
       "    <tr>\n",
       "      <th>201</th>\n",
       "      <td>2017-04-16</td>\n",
       "      <td>1</td>\n",
       "    </tr>\n",
       "    <tr>\n",
       "      <th>212</th>\n",
       "      <td>2017-03-19</td>\n",
       "      <td>1</td>\n",
       "    </tr>\n",
       "  </tbody>\n",
       "</table>\n",
       "</div>"
      ],
      "text/plain": [
       "          date  points_gained\n",
       "17  2019-04-28              2\n",
       "57  2018-09-16              1\n",
       "67  2018-08-12              1\n",
       "74  2018-07-23              2\n",
       "108 2018-04-29              3\n",
       "127 2018-03-11              2\n",
       "141 2017-10-08              1\n",
       "144 2017-10-04              3\n",
       "151 2017-09-17              2\n",
       "156 2017-08-27              2\n",
       "176 2017-06-25              1\n",
       "198 2017-04-23              2\n",
       "201 2017-04-16              1\n",
       "212 2017-03-19              1"
      ]
     },
     "execution_count": 40,
     "metadata": {},
     "output_type": "execute_result"
    }
   ],
   "source": [
    "points_from_subs.sort_values('points_gained', ascending=False).drop_duplicates('date').sort_index()"
   ]
  },
  {
   "cell_type": "code",
   "execution_count": 41,
   "metadata": {},
   "outputs": [
    {
     "data": {
      "text/plain": [
       "41"
      ]
     },
     "execution_count": 41,
     "metadata": {},
     "output_type": "execute_result"
    }
   ],
   "source": [
    "points_from_subs.points_gained.sum()"
   ]
  },
  {
   "cell_type": "code",
   "execution_count": 42,
   "metadata": {},
   "outputs": [],
   "source": [
    "#find total points lost on bad subs"
   ]
  },
  {
   "cell_type": "code",
   "execution_count": 43,
   "metadata": {},
   "outputs": [],
   "source": [
    "negsubs['end_points'] = np.where(negsubs['result'] == 'Draw',1,0)\n",
    "negsubs['sub_points'] = np.where(negsubs['sub_gamestate'] == 'Win',3,1)"
   ]
  },
  {
   "cell_type": "code",
   "execution_count": 44,
   "metadata": {},
   "outputs": [],
   "source": [
    "negsubs['points_lost'] = negsubs['end_points'] - negsubs['sub_points']"
   ]
  },
  {
   "cell_type": "code",
   "execution_count": 45,
   "metadata": {},
   "outputs": [],
   "source": [
    "lost_points_from_subs = negsubs[['date','points_lost']]"
   ]
  },
  {
   "cell_type": "code",
   "execution_count": 46,
   "metadata": {},
   "outputs": [
    {
     "data": {
      "text/html": [
       "<div>\n",
       "<style scoped>\n",
       "    .dataframe tbody tr th:only-of-type {\n",
       "        vertical-align: middle;\n",
       "    }\n",
       "\n",
       "    .dataframe tbody tr th {\n",
       "        vertical-align: top;\n",
       "    }\n",
       "\n",
       "    .dataframe thead th {\n",
       "        text-align: right;\n",
       "    }\n",
       "</style>\n",
       "<table border=\"1\" class=\"dataframe\">\n",
       "  <thead>\n",
       "    <tr style=\"text-align: right;\">\n",
       "      <th></th>\n",
       "      <th>date</th>\n",
       "      <th>points_lost</th>\n",
       "    </tr>\n",
       "  </thead>\n",
       "  <tbody>\n",
       "    <tr>\n",
       "      <th>25</th>\n",
       "      <td>2019-04-13</td>\n",
       "      <td>-2</td>\n",
       "    </tr>\n",
       "    <tr>\n",
       "      <th>58</th>\n",
       "      <td>2018-09-13</td>\n",
       "      <td>-1</td>\n",
       "    </tr>\n",
       "    <tr>\n",
       "      <th>61</th>\n",
       "      <td>2018-08-26</td>\n",
       "      <td>-1</td>\n",
       "    </tr>\n",
       "    <tr>\n",
       "      <th>69</th>\n",
       "      <td>2018-08-05</td>\n",
       "      <td>-3</td>\n",
       "    </tr>\n",
       "    <tr>\n",
       "      <th>90</th>\n",
       "      <td>2018-06-24</td>\n",
       "      <td>-1</td>\n",
       "    </tr>\n",
       "    <tr>\n",
       "      <th>159</th>\n",
       "      <td>2017-08-21</td>\n",
       "      <td>-1</td>\n",
       "    </tr>\n",
       "    <tr>\n",
       "      <th>172</th>\n",
       "      <td>2017-07-04</td>\n",
       "      <td>-1</td>\n",
       "    </tr>\n",
       "    <tr>\n",
       "      <th>180</th>\n",
       "      <td>2017-06-18</td>\n",
       "      <td>-1</td>\n",
       "    </tr>\n",
       "    <tr>\n",
       "      <th>181</th>\n",
       "      <td>2017-06-03</td>\n",
       "      <td>-1</td>\n",
       "    </tr>\n",
       "    <tr>\n",
       "      <th>188</th>\n",
       "      <td>2017-05-21</td>\n",
       "      <td>-1</td>\n",
       "    </tr>\n",
       "  </tbody>\n",
       "</table>\n",
       "</div>"
      ],
      "text/plain": [
       "          date  points_lost\n",
       "25  2019-04-13           -2\n",
       "58  2018-09-13           -1\n",
       "61  2018-08-26           -1\n",
       "69  2018-08-05           -3\n",
       "90  2018-06-24           -1\n",
       "159 2017-08-21           -1\n",
       "172 2017-07-04           -1\n",
       "180 2017-06-18           -1\n",
       "181 2017-06-03           -1\n",
       "188 2017-05-21           -1"
      ]
     },
     "execution_count": 46,
     "metadata": {},
     "output_type": "execute_result"
    }
   ],
   "source": [
    "lost_points_from_subs.sort_values('points_lost', ascending=False).drop_duplicates('date').sort_index()"
   ]
  },
  {
   "cell_type": "code",
   "execution_count": 47,
   "metadata": {},
   "outputs": [
    {
     "data": {
      "text/plain": [
       "-22"
      ]
     },
     "execution_count": 47,
     "metadata": {},
     "output_type": "execute_result"
    }
   ],
   "source": [
    "lost_points_from_subs.points_lost.sum()"
   ]
  },
  {
   "cell_type": "code",
   "execution_count": 48,
   "metadata": {},
   "outputs": [],
   "source": [
    "# most subs on and off"
   ]
  },
  {
   "cell_type": "code",
   "execution_count": 49,
   "metadata": {
    "collapsed": true
   },
   "outputs": [
    {
     "data": {
      "text/plain": [
       "Danladi         29\n",
       "Toye            16\n",
       "Warner          16\n",
       "Ibarra          14\n",
       "Romario         11\n",
       "Martin          11\n",
       "Venegas          9\n",
       "Schuller         9\n",
       "Taylor           8\n",
       "Pangop           8\n",
       "Nicholson        6\n",
       "Ibson            6\n",
       "Kadrii           6\n",
       "Ramirez          6\n",
       "Finlay           6\n",
       "Miller           6\n",
       "Rodriguez        5\n",
       "Jome             5\n",
       "Fernando         5\n",
       "Manley           4\n",
       "Kallman          4\n",
       "Dotson           4\n",
       "Davis            3\n",
       "Omsberg          3\n",
       "Heath            3\n",
       "Burch            2\n",
       "Quintero         2\n",
       "Gomez            2\n",
       "Kevin            1\n",
       "Alvbage          1\n",
       "Shuttleworth     1\n",
       "Leiton           1\n",
       "Molino           1\n",
       "Opara            1\n",
       "Thiesson         1\n",
       "Greenspan        1\n",
       "Mears            1\n",
       "Allen            1\n",
       "Name: sub_on, dtype: int64"
      ]
     },
     "execution_count": 49,
     "metadata": {},
     "output_type": "execute_result"
    }
   ],
   "source": [
    "subs.sub_on.value_counts()"
   ]
  },
  {
   "cell_type": "code",
   "execution_count": 50,
   "metadata": {
    "collapsed": true
   },
   "outputs": [
    {
     "data": {
      "text/plain": [
       "Ramirez         21\n",
       "Ibarra          20\n",
       "Schuller        20\n",
       "Danladi         17\n",
       "Molino          15\n",
       "Quintero        13\n",
       "Nicholson       10\n",
       "Ibson           10\n",
       "Finlay           9\n",
       "Rodriguez        9\n",
       "Martin           8\n",
       "Gomez            8\n",
       "Kallman          6\n",
       "Miller           6\n",
       "Burch            5\n",
       "Warner           5\n",
       "Venegas          5\n",
       "Jome             4\n",
       "Kadrii           4\n",
       "Romario          4\n",
       "Fernando         4\n",
       "Thiesson         3\n",
       "Cronin           2\n",
       "Mears            2\n",
       "Shuttleworth     1\n",
       "Taylor           1\n",
       "Omsberg          1\n",
       "Greenspan        1\n",
       "Pangop           1\n",
       "Opara            1\n",
       "Toye             1\n",
       "Saeid            1\n",
       "Alvbage          1\n",
       "Name: sub_off, dtype: int64"
      ]
     },
     "execution_count": 50,
     "metadata": {},
     "output_type": "execute_result"
    }
   ],
   "source": [
    "subs.sub_off.value_counts()"
   ]
  },
  {
   "cell_type": "code",
   "execution_count": 53,
   "metadata": {},
   "outputs": [],
   "source": [
    "subs['sub_combo'] = subs['sub_on'] + subs['sub_off']"
   ]
  },
  {
   "cell_type": "code",
   "execution_count": 52,
   "metadata": {
    "collapsed": true
   },
   "outputs": [
    {
     "data": {
      "text/plain": [
       "ToyeRamirez         8\n",
       "DanladiRamirez      6\n",
       "WarnerIbson         4\n",
       "FinlaySchuller      4\n",
       "RamirezDanladi      4\n",
       "WarnerMartin        4\n",
       "DanladiRodriguez    4\n",
       "RomarioMiller       3\n",
       "DanladiQuintero     3\n",
       "IbarraNicholson     3\n",
       "RodriguezRomario    3\n",
       "DanladiMolino       3\n",
       "WarnerDanladi       3\n",
       "IbarraMolino        3\n",
       "KadriiJome          3\n",
       "DanladiIbarra       3\n",
       "DanladiVenegas      2\n",
       "IbsonSchuller       2\n",
       "RomarioIbarra       2\n",
       "MartinIbson         2\n",
       "DotsonQuintero      2\n",
       "VenegasIbarra       2\n",
       "FernandoGomez       2\n",
       "MartinSchuller      2\n",
       "NicholsonIbarra     2\n",
       "NicholsonBurch      2\n",
       "TaylorKallman       2\n",
       "VenegasRamirez      2\n",
       "SchullerDanladi     2\n",
       "JomeIbarra          2\n",
       "                   ..\n",
       "TaylorRamirez       1\n",
       "MillerRamirez       1\n",
       "RamirezSchuller     1\n",
       "ToyeOmsberg         1\n",
       "DavisBurch          1\n",
       "NicholsonMartin     1\n",
       "VenegasNicholson    1\n",
       "JomeGreenspan       1\n",
       "GreenspanKallman    1\n",
       "ToyeSchuller        1\n",
       "IbsonFernando       1\n",
       "ToyeNicholson       1\n",
       "MillerMolino        1\n",
       "MillerQuintero      1\n",
       "DanladiToye         1\n",
       "ToyeDanladi         1\n",
       "ManleyThiesson      1\n",
       "MartinSaeid         1\n",
       "BurchMears          1\n",
       "SchullerFinlay      1\n",
       "AllenIbarra         1\n",
       "TaylorThiesson      1\n",
       "KadriiVenegas       1\n",
       "DotsonFinlay        1\n",
       "KallmanFinlay       1\n",
       "PangopIbson         1\n",
       "MartinKadrii        1\n",
       "RomarioWarner       1\n",
       "TaylorKadrii        1\n",
       "RomarioPangop       1\n",
       "Name: sub_combo, Length: 154, dtype: int64"
      ]
     },
     "execution_count": 52,
     "metadata": {},
     "output_type": "execute_result"
    }
   ],
   "source": [
    "subs.sub_combo.value_counts()"
   ]
  },
  {
   "cell_type": "code",
   "execution_count": 70,
   "metadata": {},
   "outputs": [
    {
     "data": {
      "text/plain": [
       "year  sub_gamestate\n",
       "2017  Draw            -0.350000\n",
       "      Loss             0.173913\n",
       "      Win             -0.545455\n",
       "2018  Draw            -0.461538\n",
       "      Loss             0.450980\n",
       "      Win             -0.250000\n",
       "2019  Draw            -0.125000\n",
       "      Loss             0.230769\n",
       "      Win             -0.444444\n",
       "Name: movement, dtype: float64"
      ]
     },
     "execution_count": 70,
     "metadata": {},
     "output_type": "execute_result"
    }
   ],
   "source": [
    "subs.groupby(['year','sub_gamestate'])['movement'].mean()"
   ]
  },
  {
   "cell_type": "code",
   "execution_count": 74,
   "metadata": {},
   "outputs": [
    {
     "data": {
      "text/plain": [
       "year  result\n",
       "2017  Draw      0.066667\n",
       "      Loss     -0.068182\n",
       "      Win      -0.310345\n",
       "2018  Draw      0.142857\n",
       "      Loss      0.351852\n",
       "      Win      -0.322581\n",
       "2019  Draw     -0.125000\n",
       "      Loss      0.230769\n",
       "      Win      -0.444444\n",
       "Name: movement, dtype: float64"
      ]
     },
     "execution_count": 74,
     "metadata": {},
     "output_type": "execute_result"
    }
   ],
   "source": [
    "subs.groupby(['year','result'])['movement'].mean()"
   ]
  },
  {
   "cell_type": "code",
   "execution_count": 85,
   "metadata": {},
   "outputs": [],
   "source": [
    "subs['sub_type'] = np.where(subs['movement']>0,'attacking',np.where(subs['movement']<0,'defending','neutral'))"
   ]
  },
  {
   "cell_type": "code",
   "execution_count": null,
   "metadata": {},
   "outputs": [],
   "source": []
  }
 ],
 "metadata": {
  "kernelspec": {
   "display_name": "Python 3",
   "language": "python",
   "name": "python3"
  },
  "language_info": {
   "codemirror_mode": {
    "name": "ipython",
    "version": 3
   },
   "file_extension": ".py",
   "mimetype": "text/x-python",
   "name": "python",
   "nbconvert_exporter": "python",
   "pygments_lexer": "ipython3",
   "version": "3.7.0"
  }
 },
 "nbformat": 4,
 "nbformat_minor": 2
}
