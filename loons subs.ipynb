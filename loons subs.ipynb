{
 "cells": [
  {
   "cell_type": "markdown",
   "metadata": {},
   "source": [
    "# Imports and loads"
   ]
  },
  {
   "cell_type": "code",
   "execution_count": 1,
   "metadata": {},
   "outputs": [],
   "source": [
    "import pandas as pd\n",
    "import numpy as np\n",
    "import matplotlib.pyplot as plt\n",
    "%matplotlib inline\n",
    "import seaborn as sns"
   ]
  },
  {
   "cell_type": "code",
   "execution_count": 2,
   "metadata": {},
   "outputs": [],
   "source": [
    "data = pd.read_excel('Documents\\loons sub tracking.xlsx')"
   ]
  },
  {
   "cell_type": "code",
   "execution_count": 3,
   "metadata": {
    "scrolled": true
   },
   "outputs": [
    {
     "data": {
      "text/html": [
       "<div>\n",
       "<style scoped>\n",
       "    .dataframe tbody tr th:only-of-type {\n",
       "        vertical-align: middle;\n",
       "    }\n",
       "\n",
       "    .dataframe tbody tr th {\n",
       "        vertical-align: top;\n",
       "    }\n",
       "\n",
       "    .dataframe thead th {\n",
       "        text-align: right;\n",
       "    }\n",
       "</style>\n",
       "<table border=\"1\" class=\"dataframe\">\n",
       "  <thead>\n",
       "    <tr style=\"text-align: right;\">\n",
       "      <th></th>\n",
       "      <th>Opponent</th>\n",
       "      <th>Final</th>\n",
       "      <th>Result</th>\n",
       "      <th>Sub on</th>\n",
       "      <th>Sub Off</th>\n",
       "      <th>Score at sub</th>\n",
       "      <th>Forwards</th>\n",
       "      <th>Midfieldsers</th>\n",
       "      <th>Defenders</th>\n",
       "    </tr>\n",
       "  </thead>\n",
       "  <tbody>\n",
       "    <tr>\n",
       "      <th>count</th>\n",
       "      <td>224</td>\n",
       "      <td>224</td>\n",
       "      <td>224</td>\n",
       "      <td>224</td>\n",
       "      <td>224</td>\n",
       "      <td>224</td>\n",
       "      <td>13</td>\n",
       "      <td>13</td>\n",
       "      <td>18</td>\n",
       "    </tr>\n",
       "    <tr>\n",
       "      <th>unique</th>\n",
       "      <td>23</td>\n",
       "      <td>27</td>\n",
       "      <td>3</td>\n",
       "      <td>39</td>\n",
       "      <td>35</td>\n",
       "      <td>24</td>\n",
       "      <td>13</td>\n",
       "      <td>13</td>\n",
       "      <td>18</td>\n",
       "    </tr>\n",
       "    <tr>\n",
       "      <th>top</th>\n",
       "      <td>SKC</td>\n",
       "      <td>2-3</td>\n",
       "      <td>Loss</td>\n",
       "      <td>Danladi</td>\n",
       "      <td>Ramirez</td>\n",
       "      <td>0-2</td>\n",
       "      <td>Kadrii</td>\n",
       "      <td>Warner</td>\n",
       "      <td>Manley</td>\n",
       "    </tr>\n",
       "    <tr>\n",
       "      <th>freq</th>\n",
       "      <td>18</td>\n",
       "      <td>23</td>\n",
       "      <td>116</td>\n",
       "      <td>31</td>\n",
       "      <td>21</td>\n",
       "      <td>38</td>\n",
       "      <td>1</td>\n",
       "      <td>1</td>\n",
       "      <td>1</td>\n",
       "    </tr>\n",
       "  </tbody>\n",
       "</table>\n",
       "</div>"
      ],
      "text/plain": [
       "       Opponent Final Result   Sub on  Sub Off Score at sub Forwards  \\\n",
       "count       224   224    224      224      224          224       13   \n",
       "unique       23    27      3       39       35           24       13   \n",
       "top         SKC   2-3   Loss  Danladi  Ramirez          0-2   Kadrii   \n",
       "freq         18    23    116       31       21           38        1   \n",
       "\n",
       "       Midfieldsers Defenders  \n",
       "count            13        18  \n",
       "unique           13        18  \n",
       "top          Warner    Manley  \n",
       "freq              1         1  "
      ]
     },
     "execution_count": 3,
     "metadata": {},
     "output_type": "execute_result"
    }
   ],
   "source": [
    "data.describe(include=[np.object])"
   ]
  },
  {
   "cell_type": "code",
   "execution_count": 14,
   "metadata": {},
   "outputs": [
    {
     "data": {
      "text/html": [
       "<div>\n",
       "<style scoped>\n",
       "    .dataframe tbody tr th:only-of-type {\n",
       "        vertical-align: middle;\n",
       "    }\n",
       "\n",
       "    .dataframe tbody tr th {\n",
       "        vertical-align: top;\n",
       "    }\n",
       "\n",
       "    .dataframe thead th {\n",
       "        text-align: right;\n",
       "    }\n",
       "</style>\n",
       "<table border=\"1\" class=\"dataframe\">\n",
       "  <thead>\n",
       "    <tr style=\"text-align: right;\">\n",
       "      <th></th>\n",
       "      <th>time</th>\n",
       "      <th>sub_#</th>\n",
       "      <th>movement</th>\n",
       "      <th>score_change</th>\n",
       "      <th>on_index</th>\n",
       "      <th>off_index</th>\n",
       "      <th>end_diff</th>\n",
       "      <th>sub_diff</th>\n",
       "      <th>loon_score</th>\n",
       "      <th>opp_score</th>\n",
       "    </tr>\n",
       "  </thead>\n",
       "  <tbody>\n",
       "    <tr>\n",
       "      <th>count</th>\n",
       "      <td>224.000000</td>\n",
       "      <td>224.000000</td>\n",
       "      <td>224.000000</td>\n",
       "      <td>224.00000</td>\n",
       "      <td>224.000000</td>\n",
       "      <td>224.000000</td>\n",
       "      <td>224.000000</td>\n",
       "      <td>224.000000</td>\n",
       "      <td>224.000000</td>\n",
       "      <td>224.000000</td>\n",
       "    </tr>\n",
       "    <tr>\n",
       "      <th>mean</th>\n",
       "      <td>70.187500</td>\n",
       "      <td>1.888393</td>\n",
       "      <td>-0.031250</td>\n",
       "      <td>-0.09375</td>\n",
       "      <td>1.285714</td>\n",
       "      <td>1.316964</td>\n",
       "      <td>-0.473214</td>\n",
       "      <td>-0.379464</td>\n",
       "      <td>1.071429</td>\n",
       "      <td>1.450893</td>\n",
       "    </tr>\n",
       "    <tr>\n",
       "      <th>std</th>\n",
       "      <td>15.588331</td>\n",
       "      <td>0.792934</td>\n",
       "      <td>0.924944</td>\n",
       "      <td>0.93519</td>\n",
       "      <td>0.780118</td>\n",
       "      <td>0.764972</td>\n",
       "      <td>1.831267</td>\n",
       "      <td>1.597006</td>\n",
       "      <td>1.145976</td>\n",
       "      <td>1.111416</td>\n",
       "    </tr>\n",
       "    <tr>\n",
       "      <th>min</th>\n",
       "      <td>8.000000</td>\n",
       "      <td>1.000000</td>\n",
       "      <td>-2.000000</td>\n",
       "      <td>-3.00000</td>\n",
       "      <td>0.000000</td>\n",
       "      <td>0.000000</td>\n",
       "      <td>-5.000000</td>\n",
       "      <td>-4.000000</td>\n",
       "      <td>0.000000</td>\n",
       "      <td>0.000000</td>\n",
       "    </tr>\n",
       "    <tr>\n",
       "      <th>25%</th>\n",
       "      <td>64.000000</td>\n",
       "      <td>1.000000</td>\n",
       "      <td>-0.250000</td>\n",
       "      <td>-1.00000</td>\n",
       "      <td>1.000000</td>\n",
       "      <td>1.000000</td>\n",
       "      <td>-2.000000</td>\n",
       "      <td>-2.000000</td>\n",
       "      <td>0.000000</td>\n",
       "      <td>1.000000</td>\n",
       "    </tr>\n",
       "    <tr>\n",
       "      <th>50%</th>\n",
       "      <td>75.000000</td>\n",
       "      <td>2.000000</td>\n",
       "      <td>0.000000</td>\n",
       "      <td>0.00000</td>\n",
       "      <td>1.000000</td>\n",
       "      <td>1.500000</td>\n",
       "      <td>-1.000000</td>\n",
       "      <td>-1.000000</td>\n",
       "      <td>1.000000</td>\n",
       "      <td>1.000000</td>\n",
       "    </tr>\n",
       "    <tr>\n",
       "      <th>75%</th>\n",
       "      <td>81.000000</td>\n",
       "      <td>3.000000</td>\n",
       "      <td>0.000000</td>\n",
       "      <td>0.00000</td>\n",
       "      <td>2.000000</td>\n",
       "      <td>2.000000</td>\n",
       "      <td>1.000000</td>\n",
       "      <td>1.000000</td>\n",
       "      <td>2.000000</td>\n",
       "      <td>2.000000</td>\n",
       "    </tr>\n",
       "    <tr>\n",
       "      <th>max</th>\n",
       "      <td>90.000000</td>\n",
       "      <td>3.000000</td>\n",
       "      <td>2.000000</td>\n",
       "      <td>4.00000</td>\n",
       "      <td>2.000000</td>\n",
       "      <td>2.000000</td>\n",
       "      <td>4.000000</td>\n",
       "      <td>4.000000</td>\n",
       "      <td>5.000000</td>\n",
       "      <td>5.000000</td>\n",
       "    </tr>\n",
       "  </tbody>\n",
       "</table>\n",
       "</div>"
      ],
      "text/plain": [
       "             time       sub_#    movement  score_change    on_index  \\\n",
       "count  224.000000  224.000000  224.000000     224.00000  224.000000   \n",
       "mean    70.187500    1.888393   -0.031250      -0.09375    1.285714   \n",
       "std     15.588331    0.792934    0.924944       0.93519    0.780118   \n",
       "min      8.000000    1.000000   -2.000000      -3.00000    0.000000   \n",
       "25%     64.000000    1.000000   -0.250000      -1.00000    1.000000   \n",
       "50%     75.000000    2.000000    0.000000       0.00000    1.000000   \n",
       "75%     81.000000    3.000000    0.000000       0.00000    2.000000   \n",
       "max     90.000000    3.000000    2.000000       4.00000    2.000000   \n",
       "\n",
       "        off_index    end_diff    sub_diff  loon_score   opp_score  \n",
       "count  224.000000  224.000000  224.000000  224.000000  224.000000  \n",
       "mean     1.316964   -0.473214   -0.379464    1.071429    1.450893  \n",
       "std      0.764972    1.831267    1.597006    1.145976    1.111416  \n",
       "min      0.000000   -5.000000   -4.000000    0.000000    0.000000  \n",
       "25%      1.000000   -2.000000   -2.000000    0.000000    1.000000  \n",
       "50%      1.500000   -1.000000   -1.000000    1.000000    1.000000  \n",
       "75%      2.000000    1.000000    1.000000    2.000000    2.000000  \n",
       "max      2.000000    4.000000    4.000000    5.000000    5.000000  "
      ]
     },
     "execution_count": 14,
     "metadata": {},
     "output_type": "execute_result"
    }
   ],
   "source": [
    "data.describe(include=[np.number])"
   ]
  },
  {
   "cell_type": "markdown",
   "metadata": {},
   "source": [
    "# Cleaning"
   ]
  },
  {
   "cell_type": "code",
   "execution_count": 5,
   "metadata": {},
   "outputs": [],
   "source": [
    "data.columns = map(str.lower, data.columns)"
   ]
  },
  {
   "cell_type": "code",
   "execution_count": 6,
   "metadata": {},
   "outputs": [],
   "source": [
    "data.columns = data.columns.str.replace(' ','_')"
   ]
  },
  {
   "cell_type": "code",
   "execution_count": 7,
   "metadata": {},
   "outputs": [],
   "source": [
    "data = data.drop('unnamed:_15', axis=1)"
   ]
  },
  {
   "cell_type": "code",
   "execution_count": 8,
   "metadata": {},
   "outputs": [],
   "source": [
    "data['sub_gamestate']='draw'"
   ]
  },
  {
   "cell_type": "code",
   "execution_count": 9,
   "metadata": {},
   "outputs": [],
   "source": [
    "data['loon_score'] = data['score_at_sub'].str[0]\n",
    "data['opp_score'] = data['score_at_sub'].str[2]"
   ]
  },
  {
   "cell_type": "code",
   "execution_count": 10,
   "metadata": {},
   "outputs": [],
   "source": [
    "data[['loon_score','opp_score']] = data[['loon_score','opp_score']].apply(pd.to_numeric)"
   ]
  },
  {
   "cell_type": "code",
   "execution_count": 11,
   "metadata": {},
   "outputs": [],
   "source": [
    "data['sub_gamestate'] = np.where(data['loon_score']>data['opp_score'],'Win',\n",
    "                                 np.where(data['loon_score']<data['opp_score'],'Loss','Draw'))"
   ]
  },
  {
   "cell_type": "code",
   "execution_count": 12,
   "metadata": {},
   "outputs": [],
   "source": [
    "data['sub_diff'] = data.loon_score - data.opp_score"
   ]
  },
  {
   "cell_type": "code",
   "execution_count": 13,
   "metadata": {},
   "outputs": [
    {
     "data": {
      "text/html": [
       "<div>\n",
       "<style scoped>\n",
       "    .dataframe tbody tr th:only-of-type {\n",
       "        vertical-align: middle;\n",
       "    }\n",
       "\n",
       "    .dataframe tbody tr th {\n",
       "        vertical-align: top;\n",
       "    }\n",
       "\n",
       "    .dataframe thead th {\n",
       "        text-align: right;\n",
       "    }\n",
       "</style>\n",
       "<table border=\"1\" class=\"dataframe\">\n",
       "  <thead>\n",
       "    <tr style=\"text-align: right;\">\n",
       "      <th></th>\n",
       "      <th>date</th>\n",
       "      <th>opponent</th>\n",
       "      <th>final</th>\n",
       "      <th>result</th>\n",
       "      <th>time</th>\n",
       "      <th>sub_#</th>\n",
       "      <th>sub_on</th>\n",
       "      <th>sub_off</th>\n",
       "      <th>movement</th>\n",
       "      <th>score_at_sub</th>\n",
       "      <th>...</th>\n",
       "      <th>on_index</th>\n",
       "      <th>off_index</th>\n",
       "      <th>end_diff</th>\n",
       "      <th>sub_diff</th>\n",
       "      <th>forwards</th>\n",
       "      <th>midfieldsers</th>\n",
       "      <th>defenders</th>\n",
       "      <th>sub_gamestate</th>\n",
       "      <th>loon_score</th>\n",
       "      <th>opp_score</th>\n",
       "    </tr>\n",
       "  </thead>\n",
       "  <tbody>\n",
       "    <tr>\n",
       "      <th>0</th>\n",
       "      <td>2019-05-29</td>\n",
       "      <td>Atlanta</td>\n",
       "      <td>0-3</td>\n",
       "      <td>Loss</td>\n",
       "      <td>64</td>\n",
       "      <td>1</td>\n",
       "      <td>Toye</td>\n",
       "      <td>Danladi</td>\n",
       "      <td>0</td>\n",
       "      <td>0-1</td>\n",
       "      <td>...</td>\n",
       "      <td>2</td>\n",
       "      <td>2</td>\n",
       "      <td>-3</td>\n",
       "      <td>-1</td>\n",
       "      <td>Quintero</td>\n",
       "      <td>Ibarra</td>\n",
       "      <td>Opara</td>\n",
       "      <td>Loss</td>\n",
       "      <td>0</td>\n",
       "      <td>1</td>\n",
       "    </tr>\n",
       "    <tr>\n",
       "      <th>1</th>\n",
       "      <td>2019-05-29</td>\n",
       "      <td>Atlanta</td>\n",
       "      <td>0-3</td>\n",
       "      <td>Loss</td>\n",
       "      <td>70</td>\n",
       "      <td>2</td>\n",
       "      <td>Rodriguez</td>\n",
       "      <td>Quintero</td>\n",
       "      <td>0</td>\n",
       "      <td>0-1</td>\n",
       "      <td>...</td>\n",
       "      <td>2</td>\n",
       "      <td>2</td>\n",
       "      <td>-3</td>\n",
       "      <td>-1</td>\n",
       "      <td>Rodriguez</td>\n",
       "      <td>Schuller</td>\n",
       "      <td>Kallman</td>\n",
       "      <td>Loss</td>\n",
       "      <td>0</td>\n",
       "      <td>1</td>\n",
       "    </tr>\n",
       "    <tr>\n",
       "      <th>2</th>\n",
       "      <td>2019-05-29</td>\n",
       "      <td>Atlanta</td>\n",
       "      <td>0-3</td>\n",
       "      <td>Loss</td>\n",
       "      <td>82</td>\n",
       "      <td>3</td>\n",
       "      <td>Finlay</td>\n",
       "      <td>Schuller</td>\n",
       "      <td>1</td>\n",
       "      <td>0-1</td>\n",
       "      <td>...</td>\n",
       "      <td>2</td>\n",
       "      <td>1</td>\n",
       "      <td>-3</td>\n",
       "      <td>-1</td>\n",
       "      <td>Danladi</td>\n",
       "      <td>Heath</td>\n",
       "      <td>Miller</td>\n",
       "      <td>Loss</td>\n",
       "      <td>0</td>\n",
       "      <td>1</td>\n",
       "    </tr>\n",
       "    <tr>\n",
       "      <th>3</th>\n",
       "      <td>2018-07-15</td>\n",
       "      <td>RSL</td>\n",
       "      <td>3-2</td>\n",
       "      <td>Win</td>\n",
       "      <td>72</td>\n",
       "      <td>1</td>\n",
       "      <td>Martin</td>\n",
       "      <td>Ibson</td>\n",
       "      <td>0</td>\n",
       "      <td>3-0</td>\n",
       "      <td>...</td>\n",
       "      <td>1</td>\n",
       "      <td>1</td>\n",
       "      <td>1</td>\n",
       "      <td>3</td>\n",
       "      <td>Romario</td>\n",
       "      <td>Fernando</td>\n",
       "      <td>Thiesson</td>\n",
       "      <td>Win</td>\n",
       "      <td>3</td>\n",
       "      <td>0</td>\n",
       "    </tr>\n",
       "    <tr>\n",
       "      <th>4</th>\n",
       "      <td>2018-07-15</td>\n",
       "      <td>RSL</td>\n",
       "      <td>3-2</td>\n",
       "      <td>Win</td>\n",
       "      <td>78</td>\n",
       "      <td>2</td>\n",
       "      <td>Fernando</td>\n",
       "      <td>Schuller</td>\n",
       "      <td>0</td>\n",
       "      <td>3-1</td>\n",
       "      <td>...</td>\n",
       "      <td>1</td>\n",
       "      <td>1</td>\n",
       "      <td>1</td>\n",
       "      <td>2</td>\n",
       "      <td>Molino</td>\n",
       "      <td>Maximiano</td>\n",
       "      <td>Gomez</td>\n",
       "      <td>Win</td>\n",
       "      <td>3</td>\n",
       "      <td>1</td>\n",
       "    </tr>\n",
       "  </tbody>\n",
       "</table>\n",
       "<p>5 rows × 21 columns</p>\n",
       "</div>"
      ],
      "text/plain": [
       "        date opponent final result  time  sub_#     sub_on   sub_off  \\\n",
       "0 2019-05-29  Atlanta   0-3   Loss    64      1       Toye   Danladi   \n",
       "1 2019-05-29  Atlanta   0-3   Loss    70      2  Rodriguez  Quintero   \n",
       "2 2019-05-29  Atlanta   0-3   Loss    82      3     Finlay  Schuller   \n",
       "3 2018-07-15      RSL   3-2    Win    72      1     Martin     Ibson   \n",
       "4 2018-07-15      RSL   3-2    Win    78      2   Fernando  Schuller   \n",
       "\n",
       "   movement score_at_sub  ...  on_index  off_index  end_diff  sub_diff  \\\n",
       "0         0          0-1  ...         2          2        -3        -1   \n",
       "1         0          0-1  ...         2          2        -3        -1   \n",
       "2         1          0-1  ...         2          1        -3        -1   \n",
       "3         0          3-0  ...         1          1         1         3   \n",
       "4         0          3-1  ...         1          1         1         2   \n",
       "\n",
       "    forwards midfieldsers defenders sub_gamestate loon_score  opp_score  \n",
       "0   Quintero       Ibarra     Opara          Loss          0          1  \n",
       "1  Rodriguez     Schuller   Kallman          Loss          0          1  \n",
       "2    Danladi        Heath    Miller          Loss          0          1  \n",
       "3    Romario     Fernando  Thiesson           Win          3          0  \n",
       "4     Molino    Maximiano     Gomez           Win          3          1  \n",
       "\n",
       "[5 rows x 21 columns]"
      ]
     },
     "execution_count": 13,
     "metadata": {},
     "output_type": "execute_result"
    }
   ],
   "source": [
    "data.head()"
   ]
  },
  {
   "cell_type": "code",
   "execution_count": 95,
   "metadata": {},
   "outputs": [
    {
     "data": {
      "text/plain": [
       "-1    53\n",
       "-2    49\n",
       " 0    41\n",
       " 1    39\n",
       " 2    20\n",
       "-3    10\n",
       " 3     7\n",
       "-4     3\n",
       " 4     2\n",
       "Name: sub_diff, dtype: int64"
      ]
     },
     "execution_count": 95,
     "metadata": {},
     "output_type": "execute_result"
    }
   ],
   "source": [
    "data['sub_diff'].value_counts()"
   ]
  },
  {
   "cell_type": "code",
   "execution_count": 96,
   "metadata": {},
   "outputs": [
    {
     "data": {
      "text/plain": [
       "result  sub_diff\n",
       "Draw     0          19\n",
       "        -1           7\n",
       "        -2           3\n",
       "         1           1\n",
       "Loss    -2          46\n",
       "        -1          43\n",
       "         0          11\n",
       "        -3          10\n",
       "        -4           3\n",
       "         1           3\n",
       "Win      1          35\n",
       "         2          20\n",
       "         0          11\n",
       "         3           7\n",
       "        -1           3\n",
       "         4           2\n",
       "Name: sub_diff, dtype: int64"
      ]
     },
     "execution_count": 96,
     "metadata": {},
     "output_type": "execute_result"
    }
   ],
   "source": [
    "data.groupby(['result'])['sub_diff'].value_counts()"
   ]
  },
  {
   "cell_type": "markdown",
   "metadata": {},
   "source": [
    "# split dataset"
   ]
  },
  {
   "cell_type": "code",
   "execution_count": 15,
   "metadata": {},
   "outputs": [],
   "source": [
    "    # break out player types, substitutions, and results"
   ]
  },
  {
   "cell_type": "code",
   "execution_count": 16,
   "metadata": {},
   "outputs": [],
   "source": [
    "defenders = data.defenders\n",
    "mid = data.midfieldsers\n",
    "attack = data.forwards"
   ]
  },
  {
   "cell_type": "code",
   "execution_count": 17,
   "metadata": {},
   "outputs": [],
   "source": [
    "subs = data.drop(['forwards','midfieldsers','defenders'], axis=1)"
   ]
  },
  {
   "cell_type": "code",
   "execution_count": 18,
   "metadata": {},
   "outputs": [],
   "source": [
    "results = data[['date','opponent','final','result','sub_#']]"
   ]
  },
  {
   "cell_type": "markdown",
   "metadata": {},
   "source": [
    "# Clean results dataframeto remove duplicates and count subs"
   ]
  },
  {
   "cell_type": "code",
   "execution_count": 19,
   "metadata": {},
   "outputs": [
    {
     "name": "stderr",
     "output_type": "stream",
     "text": [
      "c:\\users\\zak_laptop\\appdata\\local\\programs\\python\\python37\\lib\\site-packages\\ipykernel_launcher.py:1: SettingWithCopyWarning: \n",
      "A value is trying to be set on a copy of a slice from a DataFrame.\n",
      "Try using .loc[row_indexer,col_indexer] = value instead\n",
      "\n",
      "See the caveats in the documentation: http://pandas.pydata.org/pandas-docs/stable/indexing.html#indexing-view-versus-copy\n",
      "  \"\"\"Entry point for launching an IPython kernel.\n"
     ]
    }
   ],
   "source": [
    "results['max_sub'] = results.groupby(['date','opponent','final','result'])['sub_#'].transform(max)"
   ]
  },
  {
   "cell_type": "code",
   "execution_count": 20,
   "metadata": {},
   "outputs": [],
   "source": [
    "results = results.drop('sub_#', axis=1)"
   ]
  },
  {
   "cell_type": "code",
   "execution_count": 21,
   "metadata": {},
   "outputs": [],
   "source": [
    "results = results.drop_duplicates()"
   ]
  },
  {
   "cell_type": "code",
   "execution_count": 22,
   "metadata": {},
   "outputs": [],
   "source": [
    "results['date'] = pd.to_datetime(results['date'])"
   ]
  },
  {
   "cell_type": "code",
   "execution_count": 23,
   "metadata": {},
   "outputs": [],
   "source": [
    "subs['date']= pd.to_datetime(subs['date'])"
   ]
  },
  {
   "cell_type": "code",
   "execution_count": 24,
   "metadata": {},
   "outputs": [],
   "source": [
    "subs['year'] = subs['date'].dt.year"
   ]
  },
  {
   "cell_type": "code",
   "execution_count": 25,
   "metadata": {},
   "outputs": [
    {
     "data": {
      "text/html": [
       "<div>\n",
       "<style scoped>\n",
       "    .dataframe tbody tr th:only-of-type {\n",
       "        vertical-align: middle;\n",
       "    }\n",
       "\n",
       "    .dataframe tbody tr th {\n",
       "        vertical-align: top;\n",
       "    }\n",
       "\n",
       "    .dataframe thead th {\n",
       "        text-align: right;\n",
       "    }\n",
       "</style>\n",
       "<table border=\"1\" class=\"dataframe\">\n",
       "  <thead>\n",
       "    <tr style=\"text-align: right;\">\n",
       "      <th></th>\n",
       "      <th>opponent</th>\n",
       "      <th>final</th>\n",
       "      <th>result</th>\n",
       "    </tr>\n",
       "  </thead>\n",
       "  <tbody>\n",
       "    <tr>\n",
       "      <th>count</th>\n",
       "      <td>84</td>\n",
       "      <td>84</td>\n",
       "      <td>84</td>\n",
       "    </tr>\n",
       "    <tr>\n",
       "      <th>unique</th>\n",
       "      <td>23</td>\n",
       "      <td>27</td>\n",
       "      <td>3</td>\n",
       "    </tr>\n",
       "    <tr>\n",
       "      <th>top</th>\n",
       "      <td>Galaxy</td>\n",
       "      <td>2-3</td>\n",
       "      <td>Loss</td>\n",
       "    </tr>\n",
       "    <tr>\n",
       "      <th>freq</th>\n",
       "      <td>6</td>\n",
       "      <td>8</td>\n",
       "      <td>45</td>\n",
       "    </tr>\n",
       "  </tbody>\n",
       "</table>\n",
       "</div>"
      ],
      "text/plain": [
       "       opponent final result\n",
       "count        84    84     84\n",
       "unique       23    27      3\n",
       "top      Galaxy   2-3   Loss\n",
       "freq          6     8     45"
      ]
     },
     "execution_count": 25,
     "metadata": {},
     "output_type": "execute_result"
    }
   ],
   "source": [
    "results.describe(include=[np.object])"
   ]
  },
  {
   "cell_type": "code",
   "execution_count": 26,
   "metadata": {},
   "outputs": [
    {
     "data": {
      "text/html": [
       "<div>\n",
       "<style scoped>\n",
       "    .dataframe tbody tr th:only-of-type {\n",
       "        vertical-align: middle;\n",
       "    }\n",
       "\n",
       "    .dataframe tbody tr th {\n",
       "        vertical-align: top;\n",
       "    }\n",
       "\n",
       "    .dataframe thead th {\n",
       "        text-align: right;\n",
       "    }\n",
       "</style>\n",
       "<table border=\"1\" class=\"dataframe\">\n",
       "  <thead>\n",
       "    <tr style=\"text-align: right;\">\n",
       "      <th></th>\n",
       "      <th>time</th>\n",
       "      <th>sub_#</th>\n",
       "      <th>movement</th>\n",
       "      <th>score_change</th>\n",
       "      <th>on_index</th>\n",
       "      <th>off_index</th>\n",
       "      <th>loon_score</th>\n",
       "      <th>opp_score</th>\n",
       "    </tr>\n",
       "  </thead>\n",
       "  <tbody>\n",
       "    <tr>\n",
       "      <th>count</th>\n",
       "      <td>224.000000</td>\n",
       "      <td>224.000000</td>\n",
       "      <td>224.000000</td>\n",
       "      <td>224.00000</td>\n",
       "      <td>224.000000</td>\n",
       "      <td>224.000000</td>\n",
       "      <td>224.000000</td>\n",
       "      <td>224.000000</td>\n",
       "    </tr>\n",
       "    <tr>\n",
       "      <th>mean</th>\n",
       "      <td>70.187500</td>\n",
       "      <td>1.888393</td>\n",
       "      <td>-0.031250</td>\n",
       "      <td>-0.09375</td>\n",
       "      <td>1.285714</td>\n",
       "      <td>1.316964</td>\n",
       "      <td>1.071429</td>\n",
       "      <td>1.450893</td>\n",
       "    </tr>\n",
       "    <tr>\n",
       "      <th>std</th>\n",
       "      <td>15.588331</td>\n",
       "      <td>0.792934</td>\n",
       "      <td>0.924944</td>\n",
       "      <td>0.93519</td>\n",
       "      <td>0.780118</td>\n",
       "      <td>0.764972</td>\n",
       "      <td>1.145976</td>\n",
       "      <td>1.111416</td>\n",
       "    </tr>\n",
       "    <tr>\n",
       "      <th>min</th>\n",
       "      <td>8.000000</td>\n",
       "      <td>1.000000</td>\n",
       "      <td>-2.000000</td>\n",
       "      <td>-3.00000</td>\n",
       "      <td>0.000000</td>\n",
       "      <td>0.000000</td>\n",
       "      <td>0.000000</td>\n",
       "      <td>0.000000</td>\n",
       "    </tr>\n",
       "    <tr>\n",
       "      <th>25%</th>\n",
       "      <td>64.000000</td>\n",
       "      <td>1.000000</td>\n",
       "      <td>-0.250000</td>\n",
       "      <td>-1.00000</td>\n",
       "      <td>1.000000</td>\n",
       "      <td>1.000000</td>\n",
       "      <td>0.000000</td>\n",
       "      <td>1.000000</td>\n",
       "    </tr>\n",
       "    <tr>\n",
       "      <th>50%</th>\n",
       "      <td>75.000000</td>\n",
       "      <td>2.000000</td>\n",
       "      <td>0.000000</td>\n",
       "      <td>0.00000</td>\n",
       "      <td>1.000000</td>\n",
       "      <td>1.500000</td>\n",
       "      <td>1.000000</td>\n",
       "      <td>1.000000</td>\n",
       "    </tr>\n",
       "    <tr>\n",
       "      <th>75%</th>\n",
       "      <td>81.000000</td>\n",
       "      <td>3.000000</td>\n",
       "      <td>0.000000</td>\n",
       "      <td>0.00000</td>\n",
       "      <td>2.000000</td>\n",
       "      <td>2.000000</td>\n",
       "      <td>2.000000</td>\n",
       "      <td>2.000000</td>\n",
       "    </tr>\n",
       "    <tr>\n",
       "      <th>max</th>\n",
       "      <td>90.000000</td>\n",
       "      <td>3.000000</td>\n",
       "      <td>2.000000</td>\n",
       "      <td>4.00000</td>\n",
       "      <td>2.000000</td>\n",
       "      <td>2.000000</td>\n",
       "      <td>5.000000</td>\n",
       "      <td>5.000000</td>\n",
       "    </tr>\n",
       "  </tbody>\n",
       "</table>\n",
       "</div>"
      ],
      "text/plain": [
       "             time       sub_#    movement  score_change    on_index  \\\n",
       "count  224.000000  224.000000  224.000000     224.00000  224.000000   \n",
       "mean    70.187500    1.888393   -0.031250      -0.09375    1.285714   \n",
       "std     15.588331    0.792934    0.924944       0.93519    0.780118   \n",
       "min      8.000000    1.000000   -2.000000      -3.00000    0.000000   \n",
       "25%     64.000000    1.000000   -0.250000      -1.00000    1.000000   \n",
       "50%     75.000000    2.000000    0.000000       0.00000    1.000000   \n",
       "75%     81.000000    3.000000    0.000000       0.00000    2.000000   \n",
       "max     90.000000    3.000000    2.000000       4.00000    2.000000   \n",
       "\n",
       "        off_index  loon_score   opp_score  \n",
       "count  224.000000  224.000000  224.000000  \n",
       "mean     1.316964    1.071429    1.450893  \n",
       "std      0.764972    1.145976    1.111416  \n",
       "min      0.000000    0.000000    0.000000  \n",
       "25%      1.000000    0.000000    1.000000  \n",
       "50%      1.500000    1.000000    1.000000  \n",
       "75%      2.000000    2.000000    2.000000  \n",
       "max      2.000000    5.000000    5.000000  "
      ]
     },
     "execution_count": 26,
     "metadata": {},
     "output_type": "execute_result"
    }
   ],
   "source": [
    "subs[['time', 'sub_#', 'movement','score_change','on_index','off_index','loon_score','opp_score']].describe(include=[np.number])"
   ]
  },
  {
   "cell_type": "markdown",
   "metadata": {},
   "source": [
    "# EDA"
   ]
  },
  {
   "cell_type": "code",
   "execution_count": 27,
   "metadata": {},
   "outputs": [],
   "source": [
    "results['year'] = results['date'].dt.year"
   ]
  },
  {
   "cell_type": "code",
   "execution_count": 28,
   "metadata": {
    "scrolled": true
   },
   "outputs": [
    {
     "data": {
      "text/html": [
       "<div>\n",
       "<style scoped>\n",
       "    .dataframe tbody tr th:only-of-type {\n",
       "        vertical-align: middle;\n",
       "    }\n",
       "\n",
       "    .dataframe tbody tr th {\n",
       "        vertical-align: top;\n",
       "    }\n",
       "\n",
       "    .dataframe thead th {\n",
       "        text-align: right;\n",
       "    }\n",
       "</style>\n",
       "<table border=\"1\" class=\"dataframe\">\n",
       "  <thead>\n",
       "    <tr style=\"text-align: right;\">\n",
       "      <th></th>\n",
       "      <th>max_sub</th>\n",
       "    </tr>\n",
       "    <tr>\n",
       "      <th>year</th>\n",
       "      <th></th>\n",
       "    </tr>\n",
       "  </thead>\n",
       "  <tbody>\n",
       "    <tr>\n",
       "      <th>2017</th>\n",
       "      <td>2.588235</td>\n",
       "    </tr>\n",
       "    <tr>\n",
       "      <th>2018</th>\n",
       "      <td>2.705882</td>\n",
       "    </tr>\n",
       "    <tr>\n",
       "      <th>2019</th>\n",
       "      <td>2.750000</td>\n",
       "    </tr>\n",
       "  </tbody>\n",
       "</table>\n",
       "</div>"
      ],
      "text/plain": [
       "       max_sub\n",
       "year          \n",
       "2017  2.588235\n",
       "2018  2.705882\n",
       "2019  2.750000"
      ]
     },
     "execution_count": 28,
     "metadata": {},
     "output_type": "execute_result"
    }
   ],
   "source": [
    "#Average # subs used per game\n",
    "results.groupby(['year']).mean()"
   ]
  },
  {
   "cell_type": "code",
   "execution_count": 29,
   "metadata": {},
   "outputs": [
    {
     "data": {
      "text/plain": [
       "Index(['date', 'opponent', 'final', 'result', 'time', 'sub_#', 'sub_on',\n",
       "       'sub_off', 'movement', 'score_at_sub', 'score_change', 'on_index',\n",
       "       'off_index', 'end_diff', 'sub_diff', 'forwards', 'midfieldsers',\n",
       "       'defenders', 'sub_gamestate', 'loon_score', 'opp_score'],\n",
       "      dtype='object')"
      ]
     },
     "execution_count": 29,
     "metadata": {},
     "output_type": "execute_result"
    }
   ],
   "source": [
    "data.columns"
   ]
  },
  {
   "cell_type": "code",
   "execution_count": 30,
   "metadata": {},
   "outputs": [
    {
     "data": {
      "text/plain": [
       "result  sub_gamestate\n",
       "Draw    Draw              19\n",
       "        Loss              10\n",
       "        Win                1\n",
       "Loss    Draw              11\n",
       "        Loss             102\n",
       "        Win                3\n",
       "Win     Draw              11\n",
       "        Loss               3\n",
       "        Win               64\n",
       "Name: sub_gamestate, dtype: int64"
      ]
     },
     "execution_count": 30,
     "metadata": {},
     "output_type": "execute_result"
    }
   ],
   "source": [
    "data.groupby(['result','sub_gamestate']).sub_gamestate.count()"
   ]
  },
  {
   "cell_type": "code",
   "execution_count": 31,
   "metadata": {},
   "outputs": [
    {
     "data": {
      "text/html": [
       "<div>\n",
       "<style scoped>\n",
       "    .dataframe tbody tr th:only-of-type {\n",
       "        vertical-align: middle;\n",
       "    }\n",
       "\n",
       "    .dataframe tbody tr th {\n",
       "        vertical-align: top;\n",
       "    }\n",
       "\n",
       "    .dataframe thead th {\n",
       "        text-align: right;\n",
       "    }\n",
       "</style>\n",
       "<table border=\"1\" class=\"dataframe\">\n",
       "  <thead>\n",
       "    <tr style=\"text-align: right;\">\n",
       "      <th></th>\n",
       "      <th>max_sub</th>\n",
       "      <th>year</th>\n",
       "    </tr>\n",
       "    <tr>\n",
       "      <th>result</th>\n",
       "      <th></th>\n",
       "      <th></th>\n",
       "    </tr>\n",
       "  </thead>\n",
       "  <tbody>\n",
       "    <tr>\n",
       "      <th>Draw</th>\n",
       "      <td>2.500000</td>\n",
       "      <td>2017.750000</td>\n",
       "    </tr>\n",
       "    <tr>\n",
       "      <th>Loss</th>\n",
       "      <td>2.577778</td>\n",
       "      <td>2017.755556</td>\n",
       "    </tr>\n",
       "    <tr>\n",
       "      <th>Win</th>\n",
       "      <td>2.888889</td>\n",
       "      <td>2017.851852</td>\n",
       "    </tr>\n",
       "  </tbody>\n",
       "</table>\n",
       "</div>"
      ],
      "text/plain": [
       "         max_sub         year\n",
       "result                       \n",
       "Draw    2.500000  2017.750000\n",
       "Loss    2.577778  2017.755556\n",
       "Win     2.888889  2017.851852"
      ]
     },
     "execution_count": 31,
     "metadata": {},
     "output_type": "execute_result"
    }
   ],
   "source": [
    "#average # subs by result\n",
    "results.groupby(['result']).mean()"
   ]
  },
  {
   "cell_type": "code",
   "execution_count": 32,
   "metadata": {},
   "outputs": [
    {
     "data": {
      "text/html": [
       "<div>\n",
       "<style scoped>\n",
       "    .dataframe tbody tr th:only-of-type {\n",
       "        vertical-align: middle;\n",
       "    }\n",
       "\n",
       "    .dataframe tbody tr th {\n",
       "        vertical-align: top;\n",
       "    }\n",
       "\n",
       "    .dataframe thead th {\n",
       "        text-align: right;\n",
       "    }\n",
       "</style>\n",
       "<table border=\"1\" class=\"dataframe\">\n",
       "  <thead>\n",
       "    <tr style=\"text-align: right;\">\n",
       "      <th></th>\n",
       "      <th></th>\n",
       "      <th>max_sub</th>\n",
       "    </tr>\n",
       "    <tr>\n",
       "      <th>year</th>\n",
       "      <th>result</th>\n",
       "      <th></th>\n",
       "    </tr>\n",
       "  </thead>\n",
       "  <tbody>\n",
       "    <tr>\n",
       "      <th rowspan=\"3\" valign=\"top\">2017</th>\n",
       "      <th>Draw</th>\n",
       "      <td>2.500000</td>\n",
       "    </tr>\n",
       "    <tr>\n",
       "      <th>Loss</th>\n",
       "      <td>2.444444</td>\n",
       "    </tr>\n",
       "    <tr>\n",
       "      <th>Win</th>\n",
       "      <td>2.900000</td>\n",
       "    </tr>\n",
       "    <tr>\n",
       "      <th rowspan=\"3\" valign=\"top\">2018</th>\n",
       "      <th>Draw</th>\n",
       "      <td>2.333333</td>\n",
       "    </tr>\n",
       "    <tr>\n",
       "      <th>Loss</th>\n",
       "      <td>2.700000</td>\n",
       "    </tr>\n",
       "    <tr>\n",
       "      <th>Win</th>\n",
       "      <td>2.818182</td>\n",
       "    </tr>\n",
       "    <tr>\n",
       "      <th rowspan=\"3\" valign=\"top\">2019</th>\n",
       "      <th>Draw</th>\n",
       "      <td>2.666667</td>\n",
       "    </tr>\n",
       "    <tr>\n",
       "      <th>Loss</th>\n",
       "      <td>2.571429</td>\n",
       "    </tr>\n",
       "    <tr>\n",
       "      <th>Win</th>\n",
       "      <td>3.000000</td>\n",
       "    </tr>\n",
       "  </tbody>\n",
       "</table>\n",
       "</div>"
      ],
      "text/plain": [
       "              max_sub\n",
       "year result          \n",
       "2017 Draw    2.500000\n",
       "     Loss    2.444444\n",
       "     Win     2.900000\n",
       "2018 Draw    2.333333\n",
       "     Loss    2.700000\n",
       "     Win     2.818182\n",
       "2019 Draw    2.666667\n",
       "     Loss    2.571429\n",
       "     Win     3.000000"
      ]
     },
     "execution_count": 32,
     "metadata": {},
     "output_type": "execute_result"
    }
   ],
   "source": [
    "#average # subs by year and result\n",
    "results.groupby(['year','result']).mean()"
   ]
  },
  {
   "cell_type": "code",
   "execution_count": 33,
   "metadata": {},
   "outputs": [],
   "source": [
    "#subs made before halftime are removed as they are not necessarily made tactically, but still count agaisnt the 3 allowed\n",
    "subs_no_injury = subs.drop(subs[(subs.time < 45)].index)"
   ]
  },
  {
   "cell_type": "code",
   "execution_count": 34,
   "metadata": {
    "scrolled": true
   },
   "outputs": [
    {
     "data": {
      "text/plain": [
       "sub_#\n",
       "1    59.297619\n",
       "2    73.061728\n",
       "3    81.745763\n",
       "Name: time, dtype: float64"
      ]
     },
     "execution_count": 34,
     "metadata": {},
     "output_type": "execute_result"
    }
   ],
   "source": [
    "#average time of subs\n",
    "subs.groupby(['sub_#'])['time'].mean()"
   ]
  },
  {
   "cell_type": "code",
   "execution_count": 35,
   "metadata": {},
   "outputs": [
    {
     "data": {
      "text/plain": [
       "sub_#\n",
       "1    64.857143\n",
       "2    73.425000\n",
       "3    81.745763\n",
       "Name: time, dtype: float64"
      ]
     },
     "execution_count": 35,
     "metadata": {},
     "output_type": "execute_result"
    }
   ],
   "source": [
    "#average time of subs excluding first half injuries\n",
    "subs_no_injury.groupby(['sub_#'])['time'].mean()"
   ]
  },
  {
   "cell_type": "code",
   "execution_count": 36,
   "metadata": {},
   "outputs": [
    {
     "data": {
      "text/html": [
       "<div>\n",
       "<style scoped>\n",
       "    .dataframe tbody tr th:only-of-type {\n",
       "        vertical-align: middle;\n",
       "    }\n",
       "\n",
       "    .dataframe tbody tr th {\n",
       "        vertical-align: top;\n",
       "    }\n",
       "\n",
       "    .dataframe thead th {\n",
       "        text-align: right;\n",
       "    }\n",
       "</style>\n",
       "<table border=\"1\" class=\"dataframe\">\n",
       "  <thead>\n",
       "    <tr style=\"text-align: right;\">\n",
       "      <th></th>\n",
       "      <th></th>\n",
       "      <th>time</th>\n",
       "      <th>movement</th>\n",
       "    </tr>\n",
       "    <tr>\n",
       "      <th>sub_gamestate</th>\n",
       "      <th>sub_#</th>\n",
       "      <th></th>\n",
       "      <th></th>\n",
       "    </tr>\n",
       "  </thead>\n",
       "  <tbody>\n",
       "    <tr>\n",
       "      <th rowspan=\"3\" valign=\"top\">Draw</th>\n",
       "      <th>1</th>\n",
       "      <td>50.000000</td>\n",
       "      <td>-0.411765</td>\n",
       "    </tr>\n",
       "    <tr>\n",
       "      <th>2</th>\n",
       "      <td>73.785714</td>\n",
       "      <td>-0.214286</td>\n",
       "    </tr>\n",
       "    <tr>\n",
       "      <th>3</th>\n",
       "      <td>83.300000</td>\n",
       "      <td>-0.400000</td>\n",
       "    </tr>\n",
       "    <tr>\n",
       "      <th rowspan=\"3\" valign=\"top\">Loss</th>\n",
       "      <th>1</th>\n",
       "      <td>58.250000</td>\n",
       "      <td>0.295455</td>\n",
       "    </tr>\n",
       "    <tr>\n",
       "      <th>2</th>\n",
       "      <td>69.627907</td>\n",
       "      <td>0.186047</td>\n",
       "    </tr>\n",
       "    <tr>\n",
       "      <th>3</th>\n",
       "      <td>78.285714</td>\n",
       "      <td>0.464286</td>\n",
       "    </tr>\n",
       "    <tr>\n",
       "      <th rowspan=\"3\" valign=\"top\">Win</th>\n",
       "      <th>1</th>\n",
       "      <td>68.173913</td>\n",
       "      <td>-0.434783</td>\n",
       "    </tr>\n",
       "    <tr>\n",
       "      <th>2</th>\n",
       "      <td>78.791667</td>\n",
       "      <td>-0.166667</td>\n",
       "    </tr>\n",
       "    <tr>\n",
       "      <th>3</th>\n",
       "      <td>85.619048</td>\n",
       "      <td>-0.619048</td>\n",
       "    </tr>\n",
       "  </tbody>\n",
       "</table>\n",
       "</div>"
      ],
      "text/plain": [
       "                          time  movement\n",
       "sub_gamestate sub_#                     \n",
       "Draw          1      50.000000 -0.411765\n",
       "              2      73.785714 -0.214286\n",
       "              3      83.300000 -0.400000\n",
       "Loss          1      58.250000  0.295455\n",
       "              2      69.627907  0.186047\n",
       "              3      78.285714  0.464286\n",
       "Win           1      68.173913 -0.434783\n",
       "              2      78.791667 -0.166667\n",
       "              3      85.619048 -0.619048"
      ]
     },
     "execution_count": 36,
     "metadata": {},
     "output_type": "execute_result"
    }
   ],
   "source": [
    "#Average time of sub by result\n",
    "subs.groupby(['sub_gamestate','sub_#'])['time','movement'].mean()"
   ]
  },
  {
   "cell_type": "code",
   "execution_count": 37,
   "metadata": {
    "scrolled": false
   },
   "outputs": [
    {
     "data": {
      "text/html": [
       "<div>\n",
       "<style scoped>\n",
       "    .dataframe tbody tr th:only-of-type {\n",
       "        vertical-align: middle;\n",
       "    }\n",
       "\n",
       "    .dataframe tbody tr th {\n",
       "        vertical-align: top;\n",
       "    }\n",
       "\n",
       "    .dataframe thead th {\n",
       "        text-align: right;\n",
       "    }\n",
       "</style>\n",
       "<table border=\"1\" class=\"dataframe\">\n",
       "  <thead>\n",
       "    <tr style=\"text-align: right;\">\n",
       "      <th></th>\n",
       "      <th>time</th>\n",
       "      <th>movement</th>\n",
       "    </tr>\n",
       "    <tr>\n",
       "      <th>sub_gamestate</th>\n",
       "      <th></th>\n",
       "      <th></th>\n",
       "    </tr>\n",
       "  </thead>\n",
       "  <tbody>\n",
       "    <tr>\n",
       "      <th>Draw</th>\n",
       "      <td>74.235294</td>\n",
       "      <td>-0.382353</td>\n",
       "    </tr>\n",
       "    <tr>\n",
       "      <th>Loss</th>\n",
       "      <td>69.155963</td>\n",
       "      <td>0.321101</td>\n",
       "    </tr>\n",
       "    <tr>\n",
       "      <th>Win</th>\n",
       "      <td>78.409091</td>\n",
       "      <td>-0.393939</td>\n",
       "    </tr>\n",
       "  </tbody>\n",
       "</table>\n",
       "</div>"
      ],
      "text/plain": [
       "                    time  movement\n",
       "sub_gamestate                     \n",
       "Draw           74.235294 -0.382353\n",
       "Loss           69.155963  0.321101\n",
       "Win            78.409091 -0.393939"
      ]
     },
     "execution_count": 37,
     "metadata": {},
     "output_type": "execute_result"
    }
   ],
   "source": [
    "#Average time of sub by result excluding first half injuries\n",
    "subs_no_injury.groupby(['sub_gamestate'])['time','movement'].mean()"
   ]
  },
  {
   "cell_type": "markdown",
   "metadata": {},
   "source": [
    "# changes in games due to subs"
   ]
  },
  {
   "cell_type": "code",
   "execution_count": 38,
   "metadata": {},
   "outputs": [],
   "source": [
    "#end state and sub state must be different\n",
    "gamechanges= subs.drop(subs[(subs.result==subs.sub_gamestate)].index)"
   ]
  },
  {
   "cell_type": "code",
   "execution_count": 39,
   "metadata": {},
   "outputs": [],
   "source": [
    "#positive subs don't end in a loss\n",
    "possubs = gamechanges.drop(gamechanges[(gamechanges.result == 'Loss')].index)"
   ]
  },
  {
   "cell_type": "code",
   "execution_count": 40,
   "metadata": {},
   "outputs": [],
   "source": [
    "#positive can't have come on when we're winning\n",
    "possubs = possubs.drop(possubs[(possubs.sub_gamestate == 'Win')].index)"
   ]
  },
  {
   "cell_type": "code",
   "execution_count": 41,
   "metadata": {},
   "outputs": [
    {
     "data": {
      "text/plain": [
       "24"
      ]
     },
     "execution_count": 41,
     "metadata": {},
     "output_type": "execute_result"
    }
   ],
   "source": [
    "#number of total subs leading to gained points\n",
    "len(possubs.index)"
   ]
  },
  {
   "cell_type": "code",
   "execution_count": 42,
   "metadata": {},
   "outputs": [],
   "source": [
    "#inverse process for negative changes"
   ]
  },
  {
   "cell_type": "code",
   "execution_count": 43,
   "metadata": {},
   "outputs": [],
   "source": [
    "negsubs = gamechanges.drop(gamechanges[(gamechanges.result == 'Win')].index)"
   ]
  },
  {
   "cell_type": "code",
   "execution_count": 44,
   "metadata": {},
   "outputs": [],
   "source": [
    "negsubs = negsubs.drop(negsubs[(negsubs.sub_gamestate =='Loss')].index)"
   ]
  },
  {
   "cell_type": "code",
   "execution_count": 45,
   "metadata": {},
   "outputs": [
    {
     "data": {
      "text/plain": [
       "15"
      ]
     },
     "execution_count": 45,
     "metadata": {},
     "output_type": "execute_result"
    }
   ],
   "source": [
    "#total number of subs leading to lost points\n",
    "len(negsubs.index)"
   ]
  },
  {
   "cell_type": "markdown",
   "metadata": {},
   "source": [
    "# find points earned from subs made, max points taken per game"
   ]
  },
  {
   "cell_type": "code",
   "execution_count": 46,
   "metadata": {},
   "outputs": [],
   "source": [
    "possubs['end_points'] = np.where(possubs['result'] == 'Win',3,1)\n",
    "possubs['sub_points'] = np.where(possubs['sub_gamestate'] == 'Draw',1,0)"
   ]
  },
  {
   "cell_type": "code",
   "execution_count": 47,
   "metadata": {},
   "outputs": [],
   "source": [
    "possubs['points_gained'] = possubs['end_points'] - possubs['sub_points']"
   ]
  },
  {
   "cell_type": "code",
   "execution_count": 48,
   "metadata": {},
   "outputs": [],
   "source": [
    "points_from_subs = possubs[['date','points_gained']]"
   ]
  },
  {
   "cell_type": "code",
   "execution_count": 49,
   "metadata": {},
   "outputs": [
    {
     "data": {
      "text/plain": [
       "24"
      ]
     },
     "execution_count": 49,
     "metadata": {},
     "output_type": "execute_result"
    }
   ],
   "source": [
    "len(points_from_subs.index)"
   ]
  },
  {
   "cell_type": "code",
   "execution_count": 50,
   "metadata": {},
   "outputs": [
    {
     "data": {
      "text/html": [
       "<div>\n",
       "<style scoped>\n",
       "    .dataframe tbody tr th:only-of-type {\n",
       "        vertical-align: middle;\n",
       "    }\n",
       "\n",
       "    .dataframe tbody tr th {\n",
       "        vertical-align: top;\n",
       "    }\n",
       "\n",
       "    .dataframe thead th {\n",
       "        text-align: right;\n",
       "    }\n",
       "</style>\n",
       "<table border=\"1\" class=\"dataframe\">\n",
       "  <thead>\n",
       "    <tr style=\"text-align: right;\">\n",
       "      <th></th>\n",
       "      <th>date</th>\n",
       "      <th>points_gained</th>\n",
       "    </tr>\n",
       "  </thead>\n",
       "  <tbody>\n",
       "    <tr>\n",
       "      <th>17</th>\n",
       "      <td>2019-04-28</td>\n",
       "      <td>2</td>\n",
       "    </tr>\n",
       "    <tr>\n",
       "      <th>57</th>\n",
       "      <td>2018-09-16</td>\n",
       "      <td>1</td>\n",
       "    </tr>\n",
       "    <tr>\n",
       "      <th>67</th>\n",
       "      <td>2018-08-12</td>\n",
       "      <td>1</td>\n",
       "    </tr>\n",
       "    <tr>\n",
       "      <th>74</th>\n",
       "      <td>2018-07-23</td>\n",
       "      <td>2</td>\n",
       "    </tr>\n",
       "    <tr>\n",
       "      <th>108</th>\n",
       "      <td>2018-04-29</td>\n",
       "      <td>3</td>\n",
       "    </tr>\n",
       "    <tr>\n",
       "      <th>127</th>\n",
       "      <td>2018-03-11</td>\n",
       "      <td>2</td>\n",
       "    </tr>\n",
       "    <tr>\n",
       "      <th>141</th>\n",
       "      <td>2017-10-08</td>\n",
       "      <td>1</td>\n",
       "    </tr>\n",
       "    <tr>\n",
       "      <th>144</th>\n",
       "      <td>2017-10-04</td>\n",
       "      <td>3</td>\n",
       "    </tr>\n",
       "    <tr>\n",
       "      <th>151</th>\n",
       "      <td>2017-09-17</td>\n",
       "      <td>2</td>\n",
       "    </tr>\n",
       "    <tr>\n",
       "      <th>156</th>\n",
       "      <td>2017-08-27</td>\n",
       "      <td>2</td>\n",
       "    </tr>\n",
       "    <tr>\n",
       "      <th>176</th>\n",
       "      <td>2017-06-25</td>\n",
       "      <td>1</td>\n",
       "    </tr>\n",
       "    <tr>\n",
       "      <th>198</th>\n",
       "      <td>2017-04-23</td>\n",
       "      <td>2</td>\n",
       "    </tr>\n",
       "    <tr>\n",
       "      <th>201</th>\n",
       "      <td>2017-04-16</td>\n",
       "      <td>1</td>\n",
       "    </tr>\n",
       "    <tr>\n",
       "      <th>212</th>\n",
       "      <td>2017-03-19</td>\n",
       "      <td>1</td>\n",
       "    </tr>\n",
       "  </tbody>\n",
       "</table>\n",
       "</div>"
      ],
      "text/plain": [
       "          date  points_gained\n",
       "17  2019-04-28              2\n",
       "57  2018-09-16              1\n",
       "67  2018-08-12              1\n",
       "74  2018-07-23              2\n",
       "108 2018-04-29              3\n",
       "127 2018-03-11              2\n",
       "141 2017-10-08              1\n",
       "144 2017-10-04              3\n",
       "151 2017-09-17              2\n",
       "156 2017-08-27              2\n",
       "176 2017-06-25              1\n",
       "198 2017-04-23              2\n",
       "201 2017-04-16              1\n",
       "212 2017-03-19              1"
      ]
     },
     "execution_count": 50,
     "metadata": {},
     "output_type": "execute_result"
    }
   ],
   "source": [
    "points_from_subs.sort_values('points_gained', ascending=False).drop_duplicates('date').sort_index()"
   ]
  },
  {
   "cell_type": "code",
   "execution_count": 51,
   "metadata": {},
   "outputs": [
    {
     "data": {
      "text/plain": [
       "41"
      ]
     },
     "execution_count": 51,
     "metadata": {},
     "output_type": "execute_result"
    }
   ],
   "source": [
    "points_from_subs.points_gained.sum()"
   ]
  },
  {
   "cell_type": "code",
   "execution_count": 100,
   "metadata": {},
   "outputs": [],
   "source": [
    "points_gained_time = points_from_subs.merge(subs_no_injury, on='date')"
   ]
  },
  {
   "cell_type": "code",
   "execution_count": 109,
   "metadata": {},
   "outputs": [
    {
     "data": {
      "text/html": [
       "<div>\n",
       "<style scoped>\n",
       "    .dataframe tbody tr th:only-of-type {\n",
       "        vertical-align: middle;\n",
       "    }\n",
       "\n",
       "    .dataframe tbody tr th {\n",
       "        vertical-align: top;\n",
       "    }\n",
       "\n",
       "    .dataframe thead th {\n",
       "        text-align: right;\n",
       "    }\n",
       "</style>\n",
       "<table border=\"1\" class=\"dataframe\">\n",
       "  <thead>\n",
       "    <tr style=\"text-align: right;\">\n",
       "      <th></th>\n",
       "      <th>movement</th>\n",
       "      <th>time</th>\n",
       "    </tr>\n",
       "    <tr>\n",
       "      <th>date</th>\n",
       "      <th></th>\n",
       "      <th></th>\n",
       "    </tr>\n",
       "  </thead>\n",
       "  <tbody>\n",
       "    <tr>\n",
       "      <th>2017-03-19</th>\n",
       "      <td>0.000000</td>\n",
       "      <td>61.333333</td>\n",
       "    </tr>\n",
       "    <tr>\n",
       "      <th>2017-04-16</th>\n",
       "      <td>0.000000</td>\n",
       "      <td>90.000000</td>\n",
       "    </tr>\n",
       "    <tr>\n",
       "      <th>2017-04-23</th>\n",
       "      <td>-0.333333</td>\n",
       "      <td>78.333333</td>\n",
       "    </tr>\n",
       "    <tr>\n",
       "      <th>2017-06-25</th>\n",
       "      <td>0.000000</td>\n",
       "      <td>66.000000</td>\n",
       "    </tr>\n",
       "    <tr>\n",
       "      <th>2017-08-27</th>\n",
       "      <td>-1.500000</td>\n",
       "      <td>81.500000</td>\n",
       "    </tr>\n",
       "    <tr>\n",
       "      <th>2017-09-17</th>\n",
       "      <td>0.333333</td>\n",
       "      <td>75.000000</td>\n",
       "    </tr>\n",
       "    <tr>\n",
       "      <th>2017-10-04</th>\n",
       "      <td>0.666667</td>\n",
       "      <td>73.333333</td>\n",
       "    </tr>\n",
       "    <tr>\n",
       "      <th>2017-10-08</th>\n",
       "      <td>1.000000</td>\n",
       "      <td>79.666667</td>\n",
       "    </tr>\n",
       "    <tr>\n",
       "      <th>2018-03-11</th>\n",
       "      <td>-0.666667</td>\n",
       "      <td>63.000000</td>\n",
       "    </tr>\n",
       "    <tr>\n",
       "      <th>2018-04-29</th>\n",
       "      <td>-1.000000</td>\n",
       "      <td>72.500000</td>\n",
       "    </tr>\n",
       "    <tr>\n",
       "      <th>2018-07-23</th>\n",
       "      <td>0.000000</td>\n",
       "      <td>72.000000</td>\n",
       "    </tr>\n",
       "    <tr>\n",
       "      <th>2018-08-12</th>\n",
       "      <td>0.333333</td>\n",
       "      <td>80.666667</td>\n",
       "    </tr>\n",
       "    <tr>\n",
       "      <th>2019-04-28</th>\n",
       "      <td>-0.666667</td>\n",
       "      <td>75.333333</td>\n",
       "    </tr>\n",
       "  </tbody>\n",
       "</table>\n",
       "</div>"
      ],
      "text/plain": [
       "            movement       time\n",
       "date                           \n",
       "2017-03-19  0.000000  61.333333\n",
       "2017-04-16  0.000000  90.000000\n",
       "2017-04-23 -0.333333  78.333333\n",
       "2017-06-25  0.000000  66.000000\n",
       "2017-08-27 -1.500000  81.500000\n",
       "2017-09-17  0.333333  75.000000\n",
       "2017-10-04  0.666667  73.333333\n",
       "2017-10-08  1.000000  79.666667\n",
       "2018-03-11 -0.666667  63.000000\n",
       "2018-04-29 -1.000000  72.500000\n",
       "2018-07-23  0.000000  72.000000\n",
       "2018-08-12  0.333333  80.666667\n",
       "2019-04-28 -0.666667  75.333333"
      ]
     },
     "execution_count": 109,
     "metadata": {},
     "output_type": "execute_result"
    }
   ],
   "source": [
    "points_gained_time.groupby('date')['movement','time'].mean()"
   ]
  },
  {
   "cell_type": "code",
   "execution_count": 111,
   "metadata": {},
   "outputs": [
    {
     "data": {
      "text/plain": [
       "0.03333333333333333"
      ]
     },
     "execution_count": 111,
     "metadata": {},
     "output_type": "execute_result"
    }
   ],
   "source": [
    "points_gained_time.movement.mean()"
   ]
  },
  {
   "cell_type": "markdown",
   "metadata": {},
   "source": [
    "## find total points lost on bad subs"
   ]
  },
  {
   "cell_type": "code",
   "execution_count": 52,
   "metadata": {},
   "outputs": [],
   "source": [
    "negsubs['end_points'] = np.where(negsubs['result'] == 'Draw',1,0)\n",
    "negsubs['sub_points'] = np.where(negsubs['sub_gamestate'] == 'Win',3,1)"
   ]
  },
  {
   "cell_type": "code",
   "execution_count": 53,
   "metadata": {},
   "outputs": [],
   "source": [
    "negsubs['points_lost'] = negsubs['end_points'] - negsubs['sub_points']"
   ]
  },
  {
   "cell_type": "code",
   "execution_count": 54,
   "metadata": {},
   "outputs": [],
   "source": [
    "lost_points_from_subs = negsubs[['date','points_lost']]"
   ]
  },
  {
   "cell_type": "code",
   "execution_count": 55,
   "metadata": {},
   "outputs": [
    {
     "data": {
      "text/html": [
       "<div>\n",
       "<style scoped>\n",
       "    .dataframe tbody tr th:only-of-type {\n",
       "        vertical-align: middle;\n",
       "    }\n",
       "\n",
       "    .dataframe tbody tr th {\n",
       "        vertical-align: top;\n",
       "    }\n",
       "\n",
       "    .dataframe thead th {\n",
       "        text-align: right;\n",
       "    }\n",
       "</style>\n",
       "<table border=\"1\" class=\"dataframe\">\n",
       "  <thead>\n",
       "    <tr style=\"text-align: right;\">\n",
       "      <th></th>\n",
       "      <th>date</th>\n",
       "      <th>points_lost</th>\n",
       "    </tr>\n",
       "  </thead>\n",
       "  <tbody>\n",
       "    <tr>\n",
       "      <th>25</th>\n",
       "      <td>2019-04-13</td>\n",
       "      <td>-2</td>\n",
       "    </tr>\n",
       "    <tr>\n",
       "      <th>58</th>\n",
       "      <td>2018-09-13</td>\n",
       "      <td>-1</td>\n",
       "    </tr>\n",
       "    <tr>\n",
       "      <th>61</th>\n",
       "      <td>2018-08-26</td>\n",
       "      <td>-1</td>\n",
       "    </tr>\n",
       "    <tr>\n",
       "      <th>69</th>\n",
       "      <td>2018-08-05</td>\n",
       "      <td>-3</td>\n",
       "    </tr>\n",
       "    <tr>\n",
       "      <th>90</th>\n",
       "      <td>2018-06-24</td>\n",
       "      <td>-1</td>\n",
       "    </tr>\n",
       "    <tr>\n",
       "      <th>159</th>\n",
       "      <td>2017-08-21</td>\n",
       "      <td>-1</td>\n",
       "    </tr>\n",
       "    <tr>\n",
       "      <th>172</th>\n",
       "      <td>2017-07-04</td>\n",
       "      <td>-1</td>\n",
       "    </tr>\n",
       "    <tr>\n",
       "      <th>180</th>\n",
       "      <td>2017-06-18</td>\n",
       "      <td>-1</td>\n",
       "    </tr>\n",
       "    <tr>\n",
       "      <th>181</th>\n",
       "      <td>2017-06-03</td>\n",
       "      <td>-1</td>\n",
       "    </tr>\n",
       "    <tr>\n",
       "      <th>188</th>\n",
       "      <td>2017-05-21</td>\n",
       "      <td>-1</td>\n",
       "    </tr>\n",
       "  </tbody>\n",
       "</table>\n",
       "</div>"
      ],
      "text/plain": [
       "          date  points_lost\n",
       "25  2019-04-13           -2\n",
       "58  2018-09-13           -1\n",
       "61  2018-08-26           -1\n",
       "69  2018-08-05           -3\n",
       "90  2018-06-24           -1\n",
       "159 2017-08-21           -1\n",
       "172 2017-07-04           -1\n",
       "180 2017-06-18           -1\n",
       "181 2017-06-03           -1\n",
       "188 2017-05-21           -1"
      ]
     },
     "execution_count": 55,
     "metadata": {},
     "output_type": "execute_result"
    }
   ],
   "source": [
    "lost_points_from_subs.sort_values('points_lost', ascending=False).drop_duplicates('date').sort_index()"
   ]
  },
  {
   "cell_type": "code",
   "execution_count": 56,
   "metadata": {},
   "outputs": [
    {
     "data": {
      "text/plain": [
       "-22"
      ]
     },
     "execution_count": 56,
     "metadata": {},
     "output_type": "execute_result"
    }
   ],
   "source": [
    "lost_points_from_subs.points_lost.sum()"
   ]
  },
  {
   "cell_type": "code",
   "execution_count": 102,
   "metadata": {},
   "outputs": [],
   "source": [
    "points_lost_time = lost_points_from_subs.merge(subs_no_injury, on='date')"
   ]
  },
  {
   "cell_type": "code",
   "execution_count": 108,
   "metadata": {},
   "outputs": [
    {
     "data": {
      "text/html": [
       "<div>\n",
       "<style scoped>\n",
       "    .dataframe tbody tr th:only-of-type {\n",
       "        vertical-align: middle;\n",
       "    }\n",
       "\n",
       "    .dataframe tbody tr th {\n",
       "        vertical-align: top;\n",
       "    }\n",
       "\n",
       "    .dataframe thead th {\n",
       "        text-align: right;\n",
       "    }\n",
       "</style>\n",
       "<table border=\"1\" class=\"dataframe\">\n",
       "  <thead>\n",
       "    <tr style=\"text-align: right;\">\n",
       "      <th></th>\n",
       "      <th>movement</th>\n",
       "      <th>time</th>\n",
       "    </tr>\n",
       "    <tr>\n",
       "      <th>date</th>\n",
       "      <th></th>\n",
       "      <th></th>\n",
       "    </tr>\n",
       "  </thead>\n",
       "  <tbody>\n",
       "    <tr>\n",
       "      <th>2017-05-21</th>\n",
       "      <td>-1.000000</td>\n",
       "      <td>78.000000</td>\n",
       "    </tr>\n",
       "    <tr>\n",
       "      <th>2017-06-03</th>\n",
       "      <td>1.000000</td>\n",
       "      <td>59.000000</td>\n",
       "    </tr>\n",
       "    <tr>\n",
       "      <th>2017-06-18</th>\n",
       "      <td>-1.000000</td>\n",
       "      <td>79.000000</td>\n",
       "    </tr>\n",
       "    <tr>\n",
       "      <th>2017-07-04</th>\n",
       "      <td>1.000000</td>\n",
       "      <td>77.000000</td>\n",
       "    </tr>\n",
       "    <tr>\n",
       "      <th>2017-08-21</th>\n",
       "      <td>-1.000000</td>\n",
       "      <td>83.000000</td>\n",
       "    </tr>\n",
       "    <tr>\n",
       "      <th>2018-06-24</th>\n",
       "      <td>-0.666667</td>\n",
       "      <td>76.666667</td>\n",
       "    </tr>\n",
       "    <tr>\n",
       "      <th>2018-08-05</th>\n",
       "      <td>0.000000</td>\n",
       "      <td>57.500000</td>\n",
       "    </tr>\n",
       "    <tr>\n",
       "      <th>2018-08-26</th>\n",
       "      <td>0.500000</td>\n",
       "      <td>71.000000</td>\n",
       "    </tr>\n",
       "    <tr>\n",
       "      <th>2018-09-13</th>\n",
       "      <td>0.000000</td>\n",
       "      <td>77.500000</td>\n",
       "    </tr>\n",
       "    <tr>\n",
       "      <th>2019-04-13</th>\n",
       "      <td>-0.333333</td>\n",
       "      <td>74.333333</td>\n",
       "    </tr>\n",
       "  </tbody>\n",
       "</table>\n",
       "</div>"
      ],
      "text/plain": [
       "            movement       time\n",
       "date                           \n",
       "2017-05-21 -1.000000  78.000000\n",
       "2017-06-03  1.000000  59.000000\n",
       "2017-06-18 -1.000000  79.000000\n",
       "2017-07-04  1.000000  77.000000\n",
       "2017-08-21 -1.000000  83.000000\n",
       "2018-06-24 -0.666667  76.666667\n",
       "2018-08-05  0.000000  57.500000\n",
       "2018-08-26  0.500000  71.000000\n",
       "2018-09-13  0.000000  77.500000\n",
       "2019-04-13 -0.333333  74.333333"
      ]
     },
     "execution_count": 108,
     "metadata": {},
     "output_type": "execute_result"
    }
   ],
   "source": [
    "points_lost_time.groupby('date')['movement','time'].mean()"
   ]
  },
  {
   "cell_type": "code",
   "execution_count": 107,
   "metadata": {},
   "outputs": [
    {
     "data": {
      "text/plain": [
       "-0.37142857142857144"
      ]
     },
     "execution_count": 107,
     "metadata": {},
     "output_type": "execute_result"
    }
   ],
   "source": [
    "points_lost_time.movement.mean()"
   ]
  },
  {
   "cell_type": "markdown",
   "metadata": {},
   "source": [
    "# most subs on and off"
   ]
  },
  {
   "cell_type": "code",
   "execution_count": 57,
   "metadata": {},
   "outputs": [
    {
     "data": {
      "text/plain": [
       "Danladi    31\n",
       "Warner     16\n",
       "Toye       16\n",
       "Ibarra     14\n",
       "Martin     12\n",
       "Name: sub_on, dtype: int64"
      ]
     },
     "execution_count": 57,
     "metadata": {},
     "output_type": "execute_result"
    }
   ],
   "source": [
    "subs.sub_on.value_counts().nlargest(5)"
   ]
  },
  {
   "cell_type": "code",
   "execution_count": 58,
   "metadata": {},
   "outputs": [
    {
     "data": {
      "text/plain": [
       "Ramirez     21\n",
       "Schuller    20\n",
       "Ibarra      20\n",
       "Danladi     17\n",
       "Molino      15\n",
       "Name: sub_off, dtype: int64"
      ]
     },
     "execution_count": 58,
     "metadata": {},
     "output_type": "execute_result"
    }
   ],
   "source": [
    "subs.sub_off.value_counts().nlargest(5)"
   ]
  },
  {
   "cell_type": "code",
   "execution_count": 59,
   "metadata": {},
   "outputs": [],
   "source": [
    "subs['sub_combo'] = subs['sub_on'] + subs['sub_off']"
   ]
  },
  {
   "cell_type": "code",
   "execution_count": 60,
   "metadata": {
    "scrolled": false
   },
   "outputs": [
    {
     "data": {
      "text/plain": [
       "ToyeRamirez         8\n",
       "DanladiRamirez      6\n",
       "WarnerIbson         4\n",
       "WarnerMartin        4\n",
       "DanladiRodriguez    4\n",
       "Name: sub_combo, dtype: int64"
      ]
     },
     "execution_count": 60,
     "metadata": {},
     "output_type": "execute_result"
    }
   ],
   "source": [
    "subs.sub_combo.value_counts().nlargest(5)"
   ]
  },
  {
   "cell_type": "markdown",
   "metadata": {},
   "source": [
    "# movement by gamestate and results"
   ]
  },
  {
   "cell_type": "code",
   "execution_count": 61,
   "metadata": {},
   "outputs": [
    {
     "data": {
      "text/plain": [
       "Loss    0.513393\n",
       "Win     0.303571\n",
       "Draw    0.183036\n",
       "Name: sub_gamestate, dtype: float64"
      ]
     },
     "execution_count": 61,
     "metadata": {},
     "output_type": "execute_result"
    }
   ],
   "source": [
    "subs.sub_gamestate.value_counts(normalize=True)"
   ]
  },
  {
   "cell_type": "code",
   "execution_count": 62,
   "metadata": {},
   "outputs": [
    {
     "data": {
      "text/plain": [
       "Loss    0.535714\n",
       "Win     0.321429\n",
       "Draw    0.142857\n",
       "Name: result, dtype: float64"
      ]
     },
     "execution_count": 62,
     "metadata": {},
     "output_type": "execute_result"
    }
   ],
   "source": [
    "results.result.value_counts(normalize=True)"
   ]
  },
  {
   "cell_type": "code",
   "execution_count": 63,
   "metadata": {},
   "outputs": [
    {
     "data": {
      "text/plain": [
       "year  sub_gamestate\n",
       "2017  Draw            -0.350000\n",
       "      Loss             0.173913\n",
       "      Win             -0.545455\n",
       "2018  Draw            -0.461538\n",
       "      Loss             0.450980\n",
       "      Win             -0.250000\n",
       "2019  Draw            -0.125000\n",
       "      Loss             0.166667\n",
       "      Win             -0.444444\n",
       "Name: movement, dtype: float64"
      ]
     },
     "execution_count": 63,
     "metadata": {},
     "output_type": "execute_result"
    }
   ],
   "source": [
    "subs.groupby(['year','sub_gamestate'])['movement'].mean()"
   ]
  },
  {
   "cell_type": "code",
   "execution_count": 64,
   "metadata": {},
   "outputs": [
    {
     "data": {
      "text/plain": [
       "year  result\n",
       "2017  Draw      0.066667\n",
       "      Loss     -0.068182\n",
       "      Win      -0.310345\n",
       "2018  Draw      0.142857\n",
       "      Loss      0.351852\n",
       "      Win      -0.322581\n",
       "2019  Draw     -0.125000\n",
       "      Loss      0.166667\n",
       "      Win      -0.444444\n",
       "Name: movement, dtype: float64"
      ]
     },
     "execution_count": 64,
     "metadata": {},
     "output_type": "execute_result"
    }
   ],
   "source": [
    "subs.groupby(['year','result'])['movement'].mean()"
   ]
  },
  {
   "cell_type": "code",
   "execution_count": 65,
   "metadata": {},
   "outputs": [],
   "source": [
    "subs['sub_type'] = np.where(subs['movement']>0,'attacking',np.where(subs['movement']<0,'defending','neutral'))"
   ]
  },
  {
   "cell_type": "markdown",
   "metadata": {},
   "source": [
    "# scatter points gained vs sub movement"
   ]
  },
  {
   "cell_type": "code",
   "execution_count": 66,
   "metadata": {},
   "outputs": [],
   "source": [
    "#running again to add new columns\n",
    "subs_no_injury = subs.drop(subs[(subs.time < 45)].index)"
   ]
  },
  {
   "cell_type": "code",
   "execution_count": 67,
   "metadata": {},
   "outputs": [],
   "source": [
    "avg_score_change = subs_no_injury.groupby(['date'])['score_change'].mean()"
   ]
  },
  {
   "cell_type": "code",
   "execution_count": 68,
   "metadata": {},
   "outputs": [],
   "source": [
    "avg_movement = subs_no_injury.groupby(['date','opponent'])['movement'].mean()"
   ]
  },
  {
   "cell_type": "code",
   "execution_count": 69,
   "metadata": {},
   "outputs": [],
   "source": [
    "results = results.merge(avg_score_change, on='date')"
   ]
  },
  {
   "cell_type": "code",
   "execution_count": 70,
   "metadata": {},
   "outputs": [],
   "source": [
    "results = results.merge(avg_movement, on='date')"
   ]
  },
  {
   "cell_type": "code",
   "execution_count": 71,
   "metadata": {},
   "outputs": [
    {
     "data": {
      "text/html": [
       "<div>\n",
       "<style scoped>\n",
       "    .dataframe tbody tr th:only-of-type {\n",
       "        vertical-align: middle;\n",
       "    }\n",
       "\n",
       "    .dataframe tbody tr th {\n",
       "        vertical-align: top;\n",
       "    }\n",
       "\n",
       "    .dataframe thead th {\n",
       "        text-align: right;\n",
       "    }\n",
       "</style>\n",
       "<table border=\"1\" class=\"dataframe\">\n",
       "  <thead>\n",
       "    <tr style=\"text-align: right;\">\n",
       "      <th></th>\n",
       "      <th>date</th>\n",
       "      <th>opponent</th>\n",
       "      <th>final</th>\n",
       "      <th>result</th>\n",
       "      <th>max_sub</th>\n",
       "      <th>year</th>\n",
       "      <th>score_change</th>\n",
       "      <th>movement</th>\n",
       "    </tr>\n",
       "  </thead>\n",
       "  <tbody>\n",
       "    <tr>\n",
       "      <th>0</th>\n",
       "      <td>2019-05-29</td>\n",
       "      <td>Atlanta</td>\n",
       "      <td>0-3</td>\n",
       "      <td>Loss</td>\n",
       "      <td>3</td>\n",
       "      <td>2019</td>\n",
       "      <td>-2.0</td>\n",
       "      <td>0.333333</td>\n",
       "    </tr>\n",
       "    <tr>\n",
       "      <th>1</th>\n",
       "      <td>2018-07-15</td>\n",
       "      <td>RSL</td>\n",
       "      <td>3-2</td>\n",
       "      <td>Win</td>\n",
       "      <td>3</td>\n",
       "      <td>2018</td>\n",
       "      <td>-1.0</td>\n",
       "      <td>0.000000</td>\n",
       "    </tr>\n",
       "    <tr>\n",
       "      <th>2</th>\n",
       "      <td>2019-05-25</td>\n",
       "      <td>Houston</td>\n",
       "      <td>1-0</td>\n",
       "      <td>Win</td>\n",
       "      <td>3</td>\n",
       "      <td>2019</td>\n",
       "      <td>0.0</td>\n",
       "      <td>-0.666667</td>\n",
       "    </tr>\n",
       "    <tr>\n",
       "      <th>3</th>\n",
       "      <td>2019-05-19</td>\n",
       "      <td>Columbus</td>\n",
       "      <td>1-0</td>\n",
       "      <td>Win</td>\n",
       "      <td>3</td>\n",
       "      <td>2019</td>\n",
       "      <td>0.0</td>\n",
       "      <td>-1.000000</td>\n",
       "    </tr>\n",
       "    <tr>\n",
       "      <th>4</th>\n",
       "      <td>2019-05-12</td>\n",
       "      <td>Chicago</td>\n",
       "      <td>0-2</td>\n",
       "      <td>Loss</td>\n",
       "      <td>3</td>\n",
       "      <td>2019</td>\n",
       "      <td>0.0</td>\n",
       "      <td>1.000000</td>\n",
       "    </tr>\n",
       "  </tbody>\n",
       "</table>\n",
       "</div>"
      ],
      "text/plain": [
       "        date  opponent final result  max_sub  year  score_change  movement\n",
       "0 2019-05-29   Atlanta   0-3   Loss        3  2019          -2.0  0.333333\n",
       "1 2018-07-15       RSL   3-2    Win        3  2018          -1.0  0.000000\n",
       "2 2019-05-25   Houston   1-0    Win        3  2019           0.0 -0.666667\n",
       "3 2019-05-19  Columbus   1-0    Win        3  2019           0.0 -1.000000\n",
       "4 2019-05-12   Chicago   0-2   Loss        3  2019           0.0  1.000000"
      ]
     },
     "execution_count": 71,
     "metadata": {},
     "output_type": "execute_result"
    }
   ],
   "source": [
    "results.head()"
   ]
  },
  {
   "cell_type": "code",
   "execution_count": 72,
   "metadata": {},
   "outputs": [
    {
     "data": {
      "text/plain": [
       "Text(0,0.5,'score change')"
      ]
     },
     "execution_count": 72,
     "metadata": {},
     "output_type": "execute_result"
    },
    {
     "data": {
      "image/png": "[encoded data removed]",
      "text/plain": [
       "<Figure size 432x288 with 1 Axes>"
      ]
     },
     "metadata": {
      "needs_background": "light"
     },
     "output_type": "display_data"
    }
   ],
   "source": [
    "plt.scatter(subs_no_injury.movement, subs_no_injury.score_change)\n",
    "plt.xlabel('movement')\n",
    "plt.ylabel('score change')"
   ]
  },
  {
   "cell_type": "code",
   "execution_count": 73,
   "metadata": {},
   "outputs": [
    {
     "data": {
      "text/plain": [
       "Text(0,0.5,'score change')"
      ]
     },
     "execution_count": 73,
     "metadata": {},
     "output_type": "execute_result"
    },
    {
     "data": {
      "image/png": "[encoded data removed]",
      "text/plain": [
       "<Figure size 432x288 with 1 Axes>"
      ]
     },
     "metadata": {
      "needs_background": "light"
     },
     "output_type": "display_data"
    }
   ],
   "source": [
    "plt.scatter(results.movement, results.score_change)\n",
    "plt.xlabel('movement')\n",
    "plt.ylabel('score change')"
   ]
  },
  {
   "cell_type": "code",
   "execution_count": 74,
   "metadata": {},
   "outputs": [
    {
     "data": {
      "text/plain": [
       "<seaborn.axisgrid.PairGrid at 0x273160a6ac8>"
      ]
     },
     "execution_count": 74,
     "metadata": {},
     "output_type": "execute_result"
    },
    {
     "data": {
      "image/png": "[encoded data removed]",
      "text/plain": [
       "<Figure size 422.125x360 with 1 Axes>"
      ]
     },
     "metadata": {
      "needs_background": "light"
     },
     "output_type": "display_data"
    }
   ],
   "source": [
    "sns.pairplot(x_vars=['movement'], y_vars=['score_change'], data=results, hue='result', height = 5)"
   ]
  },
  {
   "cell_type": "markdown",
   "metadata": {},
   "source": [
    "# risk aversions results"
   ]
  },
  {
   "cell_type": "code",
   "execution_count": 75,
   "metadata": {},
   "outputs": [],
   "source": [
    "#every sub made during a draw\n",
    "draw_only = subs_no_injury.loc[subs_no_injury['sub_gamestate'] == 'Draw']"
   ]
  },
  {
   "cell_type": "code",
   "execution_count": 76,
   "metadata": {},
   "outputs": [],
   "source": [
    "draw_subtime = draw_only.groupby(['date'])['time'].mean()\n",
    "draw_movement = draw_only.groupby(['date'])['movement'].mean()"
   ]
  },
  {
   "cell_type": "code",
   "execution_count": 77,
   "metadata": {},
   "outputs": [
    {
     "data": {
      "text/html": [
       "<div>\n",
       "<style scoped>\n",
       "    .dataframe tbody tr th:only-of-type {\n",
       "        vertical-align: middle;\n",
       "    }\n",
       "\n",
       "    .dataframe tbody tr th {\n",
       "        vertical-align: top;\n",
       "    }\n",
       "\n",
       "    .dataframe thead th {\n",
       "        text-align: right;\n",
       "    }\n",
       "</style>\n",
       "<table border=\"1\" class=\"dataframe\">\n",
       "  <thead>\n",
       "    <tr style=\"text-align: right;\">\n",
       "      <th></th>\n",
       "      <th>date</th>\n",
       "      <th>opponent</th>\n",
       "      <th>final</th>\n",
       "      <th>result</th>\n",
       "      <th>time</th>\n",
       "      <th>sub_#</th>\n",
       "      <th>sub_on</th>\n",
       "      <th>sub_off</th>\n",
       "      <th>movement</th>\n",
       "      <th>score_at_sub</th>\n",
       "      <th>...</th>\n",
       "      <th>on_index</th>\n",
       "      <th>off_index</th>\n",
       "      <th>end_diff</th>\n",
       "      <th>sub_diff</th>\n",
       "      <th>sub_gamestate</th>\n",
       "      <th>loon_score</th>\n",
       "      <th>opp_score</th>\n",
       "      <th>year</th>\n",
       "      <th>sub_combo</th>\n",
       "      <th>sub_type</th>\n",
       "    </tr>\n",
       "  </thead>\n",
       "  <tbody>\n",
       "    <tr>\n",
       "      <th>15</th>\n",
       "      <td>2019-05-04</td>\n",
       "      <td>Seattle</td>\n",
       "      <td>1-1</td>\n",
       "      <td>Draw</td>\n",
       "      <td>68</td>\n",
       "      <td>1</td>\n",
       "      <td>Romario</td>\n",
       "      <td>Finlay</td>\n",
       "      <td>0</td>\n",
       "      <td>1-1</td>\n",
       "      <td>...</td>\n",
       "      <td>2</td>\n",
       "      <td>2</td>\n",
       "      <td>0</td>\n",
       "      <td>0</td>\n",
       "      <td>Draw</td>\n",
       "      <td>1</td>\n",
       "      <td>1</td>\n",
       "      <td>2019</td>\n",
       "      <td>RomarioFinlay</td>\n",
       "      <td>neutral</td>\n",
       "    </tr>\n",
       "    <tr>\n",
       "      <th>16</th>\n",
       "      <td>2019-05-04</td>\n",
       "      <td>Seattle</td>\n",
       "      <td>1-1</td>\n",
       "      <td>Draw</td>\n",
       "      <td>76</td>\n",
       "      <td>2</td>\n",
       "      <td>Quintero</td>\n",
       "      <td>Schuller</td>\n",
       "      <td>1</td>\n",
       "      <td>1-1</td>\n",
       "      <td>...</td>\n",
       "      <td>2</td>\n",
       "      <td>1</td>\n",
       "      <td>0</td>\n",
       "      <td>0</td>\n",
       "      <td>Draw</td>\n",
       "      <td>1</td>\n",
       "      <td>1</td>\n",
       "      <td>2019</td>\n",
       "      <td>QuinteroSchuller</td>\n",
       "      <td>attacking</td>\n",
       "    </tr>\n",
       "    <tr>\n",
       "      <th>17</th>\n",
       "      <td>2019-04-28</td>\n",
       "      <td>DC</td>\n",
       "      <td>1-0</td>\n",
       "      <td>Win</td>\n",
       "      <td>51</td>\n",
       "      <td>1</td>\n",
       "      <td>Ibarra</td>\n",
       "      <td>Quintero</td>\n",
       "      <td>-1</td>\n",
       "      <td>0-0</td>\n",
       "      <td>...</td>\n",
       "      <td>1</td>\n",
       "      <td>2</td>\n",
       "      <td>1</td>\n",
       "      <td>0</td>\n",
       "      <td>Draw</td>\n",
       "      <td>0</td>\n",
       "      <td>0</td>\n",
       "      <td>2019</td>\n",
       "      <td>IbarraQuintero</td>\n",
       "      <td>defending</td>\n",
       "    </tr>\n",
       "    <tr>\n",
       "      <th>20</th>\n",
       "      <td>2019-04-25</td>\n",
       "      <td>Galaxy</td>\n",
       "      <td>0-0</td>\n",
       "      <td>Draw</td>\n",
       "      <td>61</td>\n",
       "      <td>1</td>\n",
       "      <td>Ibarra</td>\n",
       "      <td>Molino</td>\n",
       "      <td>-1</td>\n",
       "      <td>0-0</td>\n",
       "      <td>...</td>\n",
       "      <td>1</td>\n",
       "      <td>2</td>\n",
       "      <td>0</td>\n",
       "      <td>0</td>\n",
       "      <td>Draw</td>\n",
       "      <td>0</td>\n",
       "      <td>0</td>\n",
       "      <td>2019</td>\n",
       "      <td>IbarraMolino</td>\n",
       "      <td>defending</td>\n",
       "    </tr>\n",
       "    <tr>\n",
       "      <th>21</th>\n",
       "      <td>2019-04-25</td>\n",
       "      <td>Galaxy</td>\n",
       "      <td>0-0</td>\n",
       "      <td>Draw</td>\n",
       "      <td>78</td>\n",
       "      <td>2</td>\n",
       "      <td>Romario</td>\n",
       "      <td>Rodriguez</td>\n",
       "      <td>0</td>\n",
       "      <td>0-0</td>\n",
       "      <td>...</td>\n",
       "      <td>2</td>\n",
       "      <td>2</td>\n",
       "      <td>0</td>\n",
       "      <td>0</td>\n",
       "      <td>Draw</td>\n",
       "      <td>0</td>\n",
       "      <td>0</td>\n",
       "      <td>2019</td>\n",
       "      <td>RomarioRodriguez</td>\n",
       "      <td>neutral</td>\n",
       "    </tr>\n",
       "  </tbody>\n",
       "</table>\n",
       "<p>5 rows × 21 columns</p>\n",
       "</div>"
      ],
      "text/plain": [
       "         date opponent final result  time  sub_#    sub_on    sub_off  \\\n",
       "15 2019-05-04  Seattle   1-1   Draw    68      1   Romario     Finlay   \n",
       "16 2019-05-04  Seattle   1-1   Draw    76      2  Quintero   Schuller   \n",
       "17 2019-04-28       DC   1-0    Win    51      1    Ibarra   Quintero   \n",
       "20 2019-04-25   Galaxy   0-0   Draw    61      1    Ibarra     Molino   \n",
       "21 2019-04-25   Galaxy   0-0   Draw    78      2   Romario  Rodriguez   \n",
       "\n",
       "    movement score_at_sub  ...  on_index  off_index  end_diff  sub_diff  \\\n",
       "15         0          1-1  ...         2          2         0         0   \n",
       "16         1          1-1  ...         2          1         0         0   \n",
       "17        -1          0-0  ...         1          2         1         0   \n",
       "20        -1          0-0  ...         1          2         0         0   \n",
       "21         0          0-0  ...         2          2         0         0   \n",
       "\n",
       "    sub_gamestate loon_score  opp_score  year         sub_combo   sub_type  \n",
       "15           Draw          1          1  2019     RomarioFinlay    neutral  \n",
       "16           Draw          1          1  2019  QuinteroSchuller  attacking  \n",
       "17           Draw          0          0  2019    IbarraQuintero  defending  \n",
       "20           Draw          0          0  2019      IbarraMolino  defending  \n",
       "21           Draw          0          0  2019  RomarioRodriguez    neutral  \n",
       "\n",
       "[5 rows x 21 columns]"
      ]
     },
     "execution_count": 77,
     "metadata": {},
     "output_type": "execute_result"
    }
   ],
   "source": [
    "draw_only.head()"
   ]
  },
  {
   "cell_type": "code",
   "execution_count": 78,
   "metadata": {},
   "outputs": [],
   "source": [
    "draw_results = draw_only[['date','opponent','final','result','sub_#']]"
   ]
  },
  {
   "cell_type": "code",
   "execution_count": 79,
   "metadata": {
    "scrolled": false
   },
   "outputs": [
    {
     "name": "stderr",
     "output_type": "stream",
     "text": [
      "c:\\users\\zak_laptop\\appdata\\local\\programs\\python\\python37\\lib\\site-packages\\ipykernel_launcher.py:1: SettingWithCopyWarning: \n",
      "A value is trying to be set on a copy of a slice from a DataFrame.\n",
      "Try using .loc[row_indexer,col_indexer] = value instead\n",
      "\n",
      "See the caveats in the documentation: http://pandas.pydata.org/pandas-docs/stable/indexing.html#indexing-view-versus-copy\n",
      "  \"\"\"Entry point for launching an IPython kernel.\n"
     ]
    }
   ],
   "source": [
    "draw_results['max_sub'] = draw_results.groupby(['date','opponent','final','result'])['sub_#'].transform(max)"
   ]
  },
  {
   "cell_type": "code",
   "execution_count": 80,
   "metadata": {
    "scrolled": true
   },
   "outputs": [],
   "source": [
    "draw_results = draw_results.drop('sub_#', axis=1)\n"
   ]
  },
  {
   "cell_type": "code",
   "execution_count": 81,
   "metadata": {},
   "outputs": [],
   "source": [
    "draw_results = draw_results.drop_duplicates()"
   ]
  },
  {
   "cell_type": "code",
   "execution_count": 112,
   "metadata": {},
   "outputs": [],
   "source": [
    "draw_results = draw_results.merge(draw_subtime, on='date')"
   ]
  },
  {
   "cell_type": "code",
   "execution_count": 113,
   "metadata": {},
   "outputs": [],
   "source": [
    "draw_results = draw_results.merge(draw_movement, on='date')"
   ]
  },
  {
   "cell_type": "code",
   "execution_count": 114,
   "metadata": {},
   "outputs": [
    {
     "data": {
      "text/plain": [
       "Draw    10\n",
       "Win      5\n",
       "Loss     4\n",
       "Name: result, dtype: int64"
      ]
     },
     "execution_count": 114,
     "metadata": {},
     "output_type": "execute_result"
    }
   ],
   "source": [
    "draw_results.result.value_counts()"
   ]
  },
  {
   "cell_type": "code",
   "execution_count": 115,
   "metadata": {},
   "outputs": [
    {
     "data": {
      "text/plain": [
       "result\n",
       "Draw    2.60\n",
       "Loss    2.25\n",
       "Win     2.00\n",
       "Name: max_sub, dtype: float64"
      ]
     },
     "execution_count": 115,
     "metadata": {},
     "output_type": "execute_result"
    }
   ],
   "source": [
    "draw_results.groupby([draw_results.result])['max_sub'].mean()"
   ]
  },
  {
   "cell_type": "code",
   "execution_count": 116,
   "metadata": {},
   "outputs": [
    {
     "data": {
      "text/html": [
       "<div>\n",
       "<style scoped>\n",
       "    .dataframe tbody tr th:only-of-type {\n",
       "        vertical-align: middle;\n",
       "    }\n",
       "\n",
       "    .dataframe tbody tr th {\n",
       "        vertical-align: top;\n",
       "    }\n",
       "\n",
       "    .dataframe thead th {\n",
       "        text-align: right;\n",
       "    }\n",
       "</style>\n",
       "<table border=\"1\" class=\"dataframe\">\n",
       "  <thead>\n",
       "    <tr style=\"text-align: right;\">\n",
       "      <th></th>\n",
       "      <th>date</th>\n",
       "      <th>opponent</th>\n",
       "      <th>final</th>\n",
       "      <th>result</th>\n",
       "      <th>max_sub</th>\n",
       "      <th>time</th>\n",
       "      <th>movement</th>\n",
       "    </tr>\n",
       "  </thead>\n",
       "  <tbody>\n",
       "    <tr>\n",
       "      <th>0</th>\n",
       "      <td>2019-05-04</td>\n",
       "      <td>Seattle</td>\n",
       "      <td>1-1</td>\n",
       "      <td>Draw</td>\n",
       "      <td>2</td>\n",
       "      <td>72.000000</td>\n",
       "      <td>0.500000</td>\n",
       "    </tr>\n",
       "    <tr>\n",
       "      <th>1</th>\n",
       "      <td>2019-04-28</td>\n",
       "      <td>DC</td>\n",
       "      <td>1-0</td>\n",
       "      <td>Win</td>\n",
       "      <td>1</td>\n",
       "      <td>51.000000</td>\n",
       "      <td>-1.000000</td>\n",
       "    </tr>\n",
       "    <tr>\n",
       "      <th>2</th>\n",
       "      <td>2019-04-25</td>\n",
       "      <td>Galaxy</td>\n",
       "      <td>0-0</td>\n",
       "      <td>Draw</td>\n",
       "      <td>3</td>\n",
       "      <td>75.333333</td>\n",
       "      <td>-0.333333</td>\n",
       "    </tr>\n",
       "    <tr>\n",
       "      <th>3</th>\n",
       "      <td>2019-04-13</td>\n",
       "      <td>NYCFC</td>\n",
       "      <td>3-3</td>\n",
       "      <td>Draw</td>\n",
       "      <td>3</td>\n",
       "      <td>81.000000</td>\n",
       "      <td>0.000000</td>\n",
       "    </tr>\n",
       "    <tr>\n",
       "      <th>4</th>\n",
       "      <td>2018-08-12</td>\n",
       "      <td>Galaxy</td>\n",
       "      <td>2-2</td>\n",
       "      <td>Draw</td>\n",
       "      <td>3</td>\n",
       "      <td>87.000000</td>\n",
       "      <td>-2.000000</td>\n",
       "    </tr>\n",
       "  </tbody>\n",
       "</table>\n",
       "</div>"
      ],
      "text/plain": [
       "        date opponent final result  max_sub       time  movement\n",
       "0 2019-05-04  Seattle   1-1   Draw        2  72.000000  0.500000\n",
       "1 2019-04-28       DC   1-0    Win        1  51.000000 -1.000000\n",
       "2 2019-04-25   Galaxy   0-0   Draw        3  75.333333 -0.333333\n",
       "3 2019-04-13    NYCFC   3-3   Draw        3  81.000000  0.000000\n",
       "4 2018-08-12   Galaxy   2-2   Draw        3  87.000000 -2.000000"
      ]
     },
     "execution_count": 116,
     "metadata": {},
     "output_type": "execute_result"
    }
   ],
   "source": [
    "draw_results.head()"
   ]
  },
  {
   "cell_type": "code",
   "execution_count": 117,
   "metadata": {},
   "outputs": [
    {
     "data": {
      "text/plain": [
       "result\n",
       "Draw    75.566667\n",
       "Loss    80.750000\n",
       "Win     64.400000\n",
       "Name: time, dtype: float64"
      ]
     },
     "execution_count": 117,
     "metadata": {},
     "output_type": "execute_result"
    }
   ],
   "source": [
    "draw_results.groupby([draw_results.result])['time'].mean()"
   ]
  },
  {
   "cell_type": "code",
   "execution_count": 118,
   "metadata": {},
   "outputs": [
    {
     "data": {
      "text/plain": [
       "result\n",
       "Draw   -0.300000\n",
       "Loss   -1.000000\n",
       "Win    -0.466667\n",
       "Name: movement, dtype: float64"
      ]
     },
     "execution_count": 118,
     "metadata": {},
     "output_type": "execute_result"
    }
   ],
   "source": [
    "draw_results.groupby([draw_results.result])['movement'].mean()"
   ]
  },
  {
   "cell_type": "code",
   "execution_count": null,
   "metadata": {},
   "outputs": [],
   "source": []
  }
 ],
 "metadata": {
  "kernelspec": {
   "display_name": "Python 3",
   "language": "python",
   "name": "python3"
  },
  "language_info": {
   "codemirror_mode": {
    "name": "ipython",
    "version": 3
   },
   "file_extension": ".py",
   "mimetype": "text/x-python",
   "name": "python",
   "nbconvert_exporter": "python",
   "pygments_lexer": "ipython3",
   "version": "3.7.0"
  }
 },
 "nbformat": 4,
 "nbformat_minor": 2
}
